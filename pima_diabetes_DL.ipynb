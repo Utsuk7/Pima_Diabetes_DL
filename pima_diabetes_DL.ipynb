{
  "nbformat": 4,
  "nbformat_minor": 0,
  "metadata": {
    "colab": {
      "provenance": [],
      "authorship_tag": "ABX9TyPRxcEBqeYHDOUsob3yny2P",
      "include_colab_link": true
    },
    "kernelspec": {
      "name": "python3",
      "display_name": "Python 3"
    },
    "language_info": {
      "name": "python"
    }
  },
  "cells": [
    {
      "cell_type": "markdown",
      "metadata": {
        "id": "view-in-github",
        "colab_type": "text"
      },
      "source": [
        "<a href=\"https://colab.research.google.com/github/Utsuk7/Pima_Diabetes_DL/blob/main/pima_diabetes_DL.ipynb\" target=\"_parent\"><img src=\"https://colab.research.google.com/assets/colab-badge.svg\" alt=\"Open In Colab\"/></a>"
      ]
    },
    {
      "cell_type": "code",
      "execution_count": null,
      "metadata": {
        "id": "bUVphCLkHUK0"
      },
      "outputs": [],
      "source": [
        "import pandas as pd\n",
        "import numpy as np\n",
        "import matplotlib.pyplot as plt\n"
      ]
    },
    {
      "cell_type": "code",
      "source": [
        "df=pd.read_csv(\"diabetes.csv\")"
      ],
      "metadata": {
        "id": "dUYkTmmbKPLh"
      },
      "execution_count": null,
      "outputs": []
    },
    {
      "cell_type": "code",
      "source": [
        "df.head()"
      ],
      "metadata": {
        "colab": {
          "base_uri": "https://localhost:8080/",
          "height": 206
        },
        "id": "gCha6HE-KSlW",
        "outputId": "3e5e9ee3-f7c8-47ae-8ee8-e79372e6e917"
      },
      "execution_count": null,
      "outputs": [
        {
          "output_type": "execute_result",
          "data": {
            "text/plain": [
              "   Pregnancies  Glucose  BloodPressure  SkinThickness  Insulin   BMI  \\\n",
              "0            6      148             72             35        0  33.6   \n",
              "1            1       85             66             29        0  26.6   \n",
              "2            8      183             64              0        0  23.3   \n",
              "3            1       89             66             23       94  28.1   \n",
              "4            0      137             40             35      168  43.1   \n",
              "\n",
              "   DiabetesPedigreeFunction  Age  Outcome  \n",
              "0                     0.627   50        1  \n",
              "1                     0.351   31        0  \n",
              "2                     0.672   32        1  \n",
              "3                     0.167   21        0  \n",
              "4                     2.288   33        1  "
            ],
            "text/html": [
              "\n",
              "  <div id=\"df-b99c8c08-a3af-4154-a312-5c4a460ca452\" class=\"colab-df-container\">\n",
              "    <div>\n",
              "<style scoped>\n",
              "    .dataframe tbody tr th:only-of-type {\n",
              "        vertical-align: middle;\n",
              "    }\n",
              "\n",
              "    .dataframe tbody tr th {\n",
              "        vertical-align: top;\n",
              "    }\n",
              "\n",
              "    .dataframe thead th {\n",
              "        text-align: right;\n",
              "    }\n",
              "</style>\n",
              "<table border=\"1\" class=\"dataframe\">\n",
              "  <thead>\n",
              "    <tr style=\"text-align: right;\">\n",
              "      <th></th>\n",
              "      <th>Pregnancies</th>\n",
              "      <th>Glucose</th>\n",
              "      <th>BloodPressure</th>\n",
              "      <th>SkinThickness</th>\n",
              "      <th>Insulin</th>\n",
              "      <th>BMI</th>\n",
              "      <th>DiabetesPedigreeFunction</th>\n",
              "      <th>Age</th>\n",
              "      <th>Outcome</th>\n",
              "    </tr>\n",
              "  </thead>\n",
              "  <tbody>\n",
              "    <tr>\n",
              "      <th>0</th>\n",
              "      <td>6</td>\n",
              "      <td>148</td>\n",
              "      <td>72</td>\n",
              "      <td>35</td>\n",
              "      <td>0</td>\n",
              "      <td>33.6</td>\n",
              "      <td>0.627</td>\n",
              "      <td>50</td>\n",
              "      <td>1</td>\n",
              "    </tr>\n",
              "    <tr>\n",
              "      <th>1</th>\n",
              "      <td>1</td>\n",
              "      <td>85</td>\n",
              "      <td>66</td>\n",
              "      <td>29</td>\n",
              "      <td>0</td>\n",
              "      <td>26.6</td>\n",
              "      <td>0.351</td>\n",
              "      <td>31</td>\n",
              "      <td>0</td>\n",
              "    </tr>\n",
              "    <tr>\n",
              "      <th>2</th>\n",
              "      <td>8</td>\n",
              "      <td>183</td>\n",
              "      <td>64</td>\n",
              "      <td>0</td>\n",
              "      <td>0</td>\n",
              "      <td>23.3</td>\n",
              "      <td>0.672</td>\n",
              "      <td>32</td>\n",
              "      <td>1</td>\n",
              "    </tr>\n",
              "    <tr>\n",
              "      <th>3</th>\n",
              "      <td>1</td>\n",
              "      <td>89</td>\n",
              "      <td>66</td>\n",
              "      <td>23</td>\n",
              "      <td>94</td>\n",
              "      <td>28.1</td>\n",
              "      <td>0.167</td>\n",
              "      <td>21</td>\n",
              "      <td>0</td>\n",
              "    </tr>\n",
              "    <tr>\n",
              "      <th>4</th>\n",
              "      <td>0</td>\n",
              "      <td>137</td>\n",
              "      <td>40</td>\n",
              "      <td>35</td>\n",
              "      <td>168</td>\n",
              "      <td>43.1</td>\n",
              "      <td>2.288</td>\n",
              "      <td>33</td>\n",
              "      <td>1</td>\n",
              "    </tr>\n",
              "  </tbody>\n",
              "</table>\n",
              "</div>\n",
              "    <div class=\"colab-df-buttons\">\n",
              "\n",
              "  <div class=\"colab-df-container\">\n",
              "    <button class=\"colab-df-convert\" onclick=\"convertToInteractive('df-b99c8c08-a3af-4154-a312-5c4a460ca452')\"\n",
              "            title=\"Convert this dataframe to an interactive table.\"\n",
              "            style=\"display:none;\">\n",
              "\n",
              "  <svg xmlns=\"http://www.w3.org/2000/svg\" height=\"24px\" viewBox=\"0 -960 960 960\">\n",
              "    <path d=\"M120-120v-720h720v720H120Zm60-500h600v-160H180v160Zm220 220h160v-160H400v160Zm0 220h160v-160H400v160ZM180-400h160v-160H180v160Zm440 0h160v-160H620v160ZM180-180h160v-160H180v160Zm440 0h160v-160H620v160Z\"/>\n",
              "  </svg>\n",
              "    </button>\n",
              "\n",
              "  <style>\n",
              "    .colab-df-container {\n",
              "      display:flex;\n",
              "      gap: 12px;\n",
              "    }\n",
              "\n",
              "    .colab-df-convert {\n",
              "      background-color: #E8F0FE;\n",
              "      border: none;\n",
              "      border-radius: 50%;\n",
              "      cursor: pointer;\n",
              "      display: none;\n",
              "      fill: #1967D2;\n",
              "      height: 32px;\n",
              "      padding: 0 0 0 0;\n",
              "      width: 32px;\n",
              "    }\n",
              "\n",
              "    .colab-df-convert:hover {\n",
              "      background-color: #E2EBFA;\n",
              "      box-shadow: 0px 1px 2px rgba(60, 64, 67, 0.3), 0px 1px 3px 1px rgba(60, 64, 67, 0.15);\n",
              "      fill: #174EA6;\n",
              "    }\n",
              "\n",
              "    .colab-df-buttons div {\n",
              "      margin-bottom: 4px;\n",
              "    }\n",
              "\n",
              "    [theme=dark] .colab-df-convert {\n",
              "      background-color: #3B4455;\n",
              "      fill: #D2E3FC;\n",
              "    }\n",
              "\n",
              "    [theme=dark] .colab-df-convert:hover {\n",
              "      background-color: #434B5C;\n",
              "      box-shadow: 0px 1px 3px 1px rgba(0, 0, 0, 0.15);\n",
              "      filter: drop-shadow(0px 1px 2px rgba(0, 0, 0, 0.3));\n",
              "      fill: #FFFFFF;\n",
              "    }\n",
              "  </style>\n",
              "\n",
              "    <script>\n",
              "      const buttonEl =\n",
              "        document.querySelector('#df-b99c8c08-a3af-4154-a312-5c4a460ca452 button.colab-df-convert');\n",
              "      buttonEl.style.display =\n",
              "        google.colab.kernel.accessAllowed ? 'block' : 'none';\n",
              "\n",
              "      async function convertToInteractive(key) {\n",
              "        const element = document.querySelector('#df-b99c8c08-a3af-4154-a312-5c4a460ca452');\n",
              "        const dataTable =\n",
              "          await google.colab.kernel.invokeFunction('convertToInteractive',\n",
              "                                                    [key], {});\n",
              "        if (!dataTable) return;\n",
              "\n",
              "        const docLinkHtml = 'Like what you see? Visit the ' +\n",
              "          '<a target=\"_blank\" href=https://colab.research.google.com/notebooks/data_table.ipynb>data table notebook</a>'\n",
              "          + ' to learn more about interactive tables.';\n",
              "        element.innerHTML = '';\n",
              "        dataTable['output_type'] = 'display_data';\n",
              "        await google.colab.output.renderOutput(dataTable, element);\n",
              "        const docLink = document.createElement('div');\n",
              "        docLink.innerHTML = docLinkHtml;\n",
              "        element.appendChild(docLink);\n",
              "      }\n",
              "    </script>\n",
              "  </div>\n",
              "\n",
              "\n",
              "<div id=\"df-ab917cef-1f3a-4bbf-985d-8dfb147e752e\">\n",
              "  <button class=\"colab-df-quickchart\" onclick=\"quickchart('df-ab917cef-1f3a-4bbf-985d-8dfb147e752e')\"\n",
              "            title=\"Suggest charts\"\n",
              "            style=\"display:none;\">\n",
              "\n",
              "<svg xmlns=\"http://www.w3.org/2000/svg\" height=\"24px\"viewBox=\"0 0 24 24\"\n",
              "     width=\"24px\">\n",
              "    <g>\n",
              "        <path d=\"M19 3H5c-1.1 0-2 .9-2 2v14c0 1.1.9 2 2 2h14c1.1 0 2-.9 2-2V5c0-1.1-.9-2-2-2zM9 17H7v-7h2v7zm4 0h-2V7h2v10zm4 0h-2v-4h2v4z\"/>\n",
              "    </g>\n",
              "</svg>\n",
              "  </button>\n",
              "\n",
              "<style>\n",
              "  .colab-df-quickchart {\n",
              "      --bg-color: #E8F0FE;\n",
              "      --fill-color: #1967D2;\n",
              "      --hover-bg-color: #E2EBFA;\n",
              "      --hover-fill-color: #174EA6;\n",
              "      --disabled-fill-color: #AAA;\n",
              "      --disabled-bg-color: #DDD;\n",
              "  }\n",
              "\n",
              "  [theme=dark] .colab-df-quickchart {\n",
              "      --bg-color: #3B4455;\n",
              "      --fill-color: #D2E3FC;\n",
              "      --hover-bg-color: #434B5C;\n",
              "      --hover-fill-color: #FFFFFF;\n",
              "      --disabled-bg-color: #3B4455;\n",
              "      --disabled-fill-color: #666;\n",
              "  }\n",
              "\n",
              "  .colab-df-quickchart {\n",
              "    background-color: var(--bg-color);\n",
              "    border: none;\n",
              "    border-radius: 50%;\n",
              "    cursor: pointer;\n",
              "    display: none;\n",
              "    fill: var(--fill-color);\n",
              "    height: 32px;\n",
              "    padding: 0;\n",
              "    width: 32px;\n",
              "  }\n",
              "\n",
              "  .colab-df-quickchart:hover {\n",
              "    background-color: var(--hover-bg-color);\n",
              "    box-shadow: 0 1px 2px rgba(60, 64, 67, 0.3), 0 1px 3px 1px rgba(60, 64, 67, 0.15);\n",
              "    fill: var(--button-hover-fill-color);\n",
              "  }\n",
              "\n",
              "  .colab-df-quickchart-complete:disabled,\n",
              "  .colab-df-quickchart-complete:disabled:hover {\n",
              "    background-color: var(--disabled-bg-color);\n",
              "    fill: var(--disabled-fill-color);\n",
              "    box-shadow: none;\n",
              "  }\n",
              "\n",
              "  .colab-df-spinner {\n",
              "    border: 2px solid var(--fill-color);\n",
              "    border-color: transparent;\n",
              "    border-bottom-color: var(--fill-color);\n",
              "    animation:\n",
              "      spin 1s steps(1) infinite;\n",
              "  }\n",
              "\n",
              "  @keyframes spin {\n",
              "    0% {\n",
              "      border-color: transparent;\n",
              "      border-bottom-color: var(--fill-color);\n",
              "      border-left-color: var(--fill-color);\n",
              "    }\n",
              "    20% {\n",
              "      border-color: transparent;\n",
              "      border-left-color: var(--fill-color);\n",
              "      border-top-color: var(--fill-color);\n",
              "    }\n",
              "    30% {\n",
              "      border-color: transparent;\n",
              "      border-left-color: var(--fill-color);\n",
              "      border-top-color: var(--fill-color);\n",
              "      border-right-color: var(--fill-color);\n",
              "    }\n",
              "    40% {\n",
              "      border-color: transparent;\n",
              "      border-right-color: var(--fill-color);\n",
              "      border-top-color: var(--fill-color);\n",
              "    }\n",
              "    60% {\n",
              "      border-color: transparent;\n",
              "      border-right-color: var(--fill-color);\n",
              "    }\n",
              "    80% {\n",
              "      border-color: transparent;\n",
              "      border-right-color: var(--fill-color);\n",
              "      border-bottom-color: var(--fill-color);\n",
              "    }\n",
              "    90% {\n",
              "      border-color: transparent;\n",
              "      border-bottom-color: var(--fill-color);\n",
              "    }\n",
              "  }\n",
              "</style>\n",
              "\n",
              "  <script>\n",
              "    async function quickchart(key) {\n",
              "      const quickchartButtonEl =\n",
              "        document.querySelector('#' + key + ' button');\n",
              "      quickchartButtonEl.disabled = true;  // To prevent multiple clicks.\n",
              "      quickchartButtonEl.classList.add('colab-df-spinner');\n",
              "      try {\n",
              "        const charts = await google.colab.kernel.invokeFunction(\n",
              "            'suggestCharts', [key], {});\n",
              "      } catch (error) {\n",
              "        console.error('Error during call to suggestCharts:', error);\n",
              "      }\n",
              "      quickchartButtonEl.classList.remove('colab-df-spinner');\n",
              "      quickchartButtonEl.classList.add('colab-df-quickchart-complete');\n",
              "    }\n",
              "    (() => {\n",
              "      let quickchartButtonEl =\n",
              "        document.querySelector('#df-ab917cef-1f3a-4bbf-985d-8dfb147e752e button');\n",
              "      quickchartButtonEl.style.display =\n",
              "        google.colab.kernel.accessAllowed ? 'block' : 'none';\n",
              "    })();\n",
              "  </script>\n",
              "</div>\n",
              "\n",
              "    </div>\n",
              "  </div>\n"
            ],
            "application/vnd.google.colaboratory.intrinsic+json": {
              "type": "dataframe",
              "variable_name": "df",
              "summary": "{\n  \"name\": \"df\",\n  \"rows\": 768,\n  \"fields\": [\n    {\n      \"column\": \"Pregnancies\",\n      \"properties\": {\n        \"dtype\": \"number\",\n        \"std\": 3,\n        \"min\": 0,\n        \"max\": 17,\n        \"num_unique_values\": 17,\n        \"samples\": [\n          6,\n          1,\n          3\n        ],\n        \"semantic_type\": \"\",\n        \"description\": \"\"\n      }\n    },\n    {\n      \"column\": \"Glucose\",\n      \"properties\": {\n        \"dtype\": \"number\",\n        \"std\": 31,\n        \"min\": 0,\n        \"max\": 199,\n        \"num_unique_values\": 136,\n        \"samples\": [\n          151,\n          101,\n          112\n        ],\n        \"semantic_type\": \"\",\n        \"description\": \"\"\n      }\n    },\n    {\n      \"column\": \"BloodPressure\",\n      \"properties\": {\n        \"dtype\": \"number\",\n        \"std\": 19,\n        \"min\": 0,\n        \"max\": 122,\n        \"num_unique_values\": 47,\n        \"samples\": [\n          86,\n          46,\n          85\n        ],\n        \"semantic_type\": \"\",\n        \"description\": \"\"\n      }\n    },\n    {\n      \"column\": \"SkinThickness\",\n      \"properties\": {\n        \"dtype\": \"number\",\n        \"std\": 15,\n        \"min\": 0,\n        \"max\": 99,\n        \"num_unique_values\": 51,\n        \"samples\": [\n          7,\n          12,\n          48\n        ],\n        \"semantic_type\": \"\",\n        \"description\": \"\"\n      }\n    },\n    {\n      \"column\": \"Insulin\",\n      \"properties\": {\n        \"dtype\": \"number\",\n        \"std\": 115,\n        \"min\": 0,\n        \"max\": 846,\n        \"num_unique_values\": 186,\n        \"samples\": [\n          52,\n          41,\n          183\n        ],\n        \"semantic_type\": \"\",\n        \"description\": \"\"\n      }\n    },\n    {\n      \"column\": \"BMI\",\n      \"properties\": {\n        \"dtype\": \"number\",\n        \"std\": 7.884160320375446,\n        \"min\": 0.0,\n        \"max\": 67.1,\n        \"num_unique_values\": 248,\n        \"samples\": [\n          19.9,\n          31.0,\n          38.1\n        ],\n        \"semantic_type\": \"\",\n        \"description\": \"\"\n      }\n    },\n    {\n      \"column\": \"DiabetesPedigreeFunction\",\n      \"properties\": {\n        \"dtype\": \"number\",\n        \"std\": 0.3313285950127749,\n        \"min\": 0.078,\n        \"max\": 2.42,\n        \"num_unique_values\": 517,\n        \"samples\": [\n          1.731,\n          0.426,\n          0.138\n        ],\n        \"semantic_type\": \"\",\n        \"description\": \"\"\n      }\n    },\n    {\n      \"column\": \"Age\",\n      \"properties\": {\n        \"dtype\": \"number\",\n        \"std\": 11,\n        \"min\": 21,\n        \"max\": 81,\n        \"num_unique_values\": 52,\n        \"samples\": [\n          60,\n          47,\n          72\n        ],\n        \"semantic_type\": \"\",\n        \"description\": \"\"\n      }\n    },\n    {\n      \"column\": \"Outcome\",\n      \"properties\": {\n        \"dtype\": \"number\",\n        \"std\": 0,\n        \"min\": 0,\n        \"max\": 1,\n        \"num_unique_values\": 2,\n        \"samples\": [\n          0,\n          1\n        ],\n        \"semantic_type\": \"\",\n        \"description\": \"\"\n      }\n    }\n  ]\n}"
            }
          },
          "metadata": {},
          "execution_count": 3
        }
      ]
    },
    {
      "cell_type": "code",
      "source": [
        "X=df.iloc[:,:-1].values\n",
        "y=df.iloc[:,-1].values"
      ],
      "metadata": {
        "id": "bJ_qndDHKTkg"
      },
      "execution_count": null,
      "outputs": []
    },
    {
      "cell_type": "code",
      "source": [
        "from sklearn.preprocessing import StandardScaler"
      ],
      "metadata": {
        "id": "7sNyeMhxMFQ6"
      },
      "execution_count": null,
      "outputs": []
    },
    {
      "cell_type": "code",
      "source": [
        "sc=StandardScaler()"
      ],
      "metadata": {
        "id": "8DYhqUerMO4M"
      },
      "execution_count": null,
      "outputs": []
    },
    {
      "cell_type": "code",
      "source": [
        "X=sc.fit_transform(X)"
      ],
      "metadata": {
        "id": "iJp8TNOvMYg6"
      },
      "execution_count": null,
      "outputs": []
    },
    {
      "cell_type": "code",
      "source": [
        "X.shape"
      ],
      "metadata": {
        "colab": {
          "base_uri": "https://localhost:8080/"
        },
        "id": "cbbyWI3FMfHa",
        "outputId": "74e45229-482e-46e1-895f-da73a29e0320"
      },
      "execution_count": null,
      "outputs": [
        {
          "output_type": "execute_result",
          "data": {
            "text/plain": [
              "(768, 8)"
            ]
          },
          "metadata": {},
          "execution_count": 11
        }
      ]
    },
    {
      "cell_type": "code",
      "source": [
        "from sklearn.model_selection import train_test_split"
      ],
      "metadata": {
        "id": "UsLPHvQsMicy"
      },
      "execution_count": null,
      "outputs": []
    },
    {
      "cell_type": "code",
      "source": [
        "X_train,X_test,y_train,y_test=train_test_split(X,y,random_state=1,test_size=0.2)"
      ],
      "metadata": {
        "id": "zFjRE_qQMlqR"
      },
      "execution_count": null,
      "outputs": []
    },
    {
      "cell_type": "code",
      "source": [
        "import tensorflow\n",
        "from tensorflow import keras\n",
        "from keras import Sequential\n",
        "from keras.layers import Dense,Dropout"
      ],
      "metadata": {
        "id": "QvE7qKZDMrZv"
      },
      "execution_count": null,
      "outputs": []
    },
    {
      "cell_type": "code",
      "source": [
        "model=Sequential()\n",
        "model.add(Dense(32,activation='relu',input_dim=8))\n",
        "model.add(Dense(1,activation='sigmoid'))\n",
        "\n",
        "model.compile(optimizer='Adam',loss='binary_crossentropy',metrics=['accuracy'])"
      ],
      "metadata": {
        "id": "hNmWfYOsNCVJ"
      },
      "execution_count": null,
      "outputs": []
    },
    {
      "cell_type": "code",
      "source": [
        "model.fit(X_train,y_train,batch_size=32,epochs=100,validation_data=(X_test,y_test))"
      ],
      "metadata": {
        "colab": {
          "base_uri": "https://localhost:8080/"
        },
        "id": "88Akh9aKN3r-",
        "outputId": "edf8d12c-71b2-4fb0-a763-fbacc70793d1"
      },
      "execution_count": null,
      "outputs": [
        {
          "output_type": "stream",
          "name": "stdout",
          "text": [
            "Epoch 1/100\n",
            "20/20 [==============================] - 1s 15ms/step - loss: 0.6859 - accuracy: 0.6059 - val_loss: 0.6674 - val_accuracy: 0.6039\n",
            "Epoch 2/100\n",
            "20/20 [==============================] - 0s 5ms/step - loss: 0.6317 - accuracy: 0.6564 - val_loss: 0.6201 - val_accuracy: 0.6429\n",
            "Epoch 3/100\n",
            "20/20 [==============================] - 0s 4ms/step - loss: 0.5935 - accuracy: 0.6922 - val_loss: 0.5867 - val_accuracy: 0.7013\n",
            "Epoch 4/100\n",
            "20/20 [==============================] - 0s 5ms/step - loss: 0.5646 - accuracy: 0.7280 - val_loss: 0.5623 - val_accuracy: 0.7273\n",
            "Epoch 5/100\n",
            "20/20 [==============================] - 0s 5ms/step - loss: 0.5427 - accuracy: 0.7508 - val_loss: 0.5421 - val_accuracy: 0.7662\n",
            "Epoch 6/100\n",
            "20/20 [==============================] - 0s 4ms/step - loss: 0.5255 - accuracy: 0.7655 - val_loss: 0.5284 - val_accuracy: 0.7662\n",
            "Epoch 7/100\n",
            "20/20 [==============================] - 0s 6ms/step - loss: 0.5130 - accuracy: 0.7687 - val_loss: 0.5178 - val_accuracy: 0.7792\n",
            "Epoch 8/100\n",
            "20/20 [==============================] - 0s 4ms/step - loss: 0.5028 - accuracy: 0.7752 - val_loss: 0.5114 - val_accuracy: 0.7792\n",
            "Epoch 9/100\n",
            "20/20 [==============================] - 0s 4ms/step - loss: 0.4942 - accuracy: 0.7769 - val_loss: 0.5035 - val_accuracy: 0.7792\n",
            "Epoch 10/100\n",
            "20/20 [==============================] - 0s 5ms/step - loss: 0.4868 - accuracy: 0.7801 - val_loss: 0.4977 - val_accuracy: 0.7792\n",
            "Epoch 11/100\n",
            "20/20 [==============================] - 0s 4ms/step - loss: 0.4810 - accuracy: 0.7769 - val_loss: 0.4938 - val_accuracy: 0.7857\n",
            "Epoch 12/100\n",
            "20/20 [==============================] - 0s 4ms/step - loss: 0.4761 - accuracy: 0.7850 - val_loss: 0.4911 - val_accuracy: 0.7727\n",
            "Epoch 13/100\n",
            "20/20 [==============================] - 0s 4ms/step - loss: 0.4717 - accuracy: 0.7850 - val_loss: 0.4884 - val_accuracy: 0.7662\n",
            "Epoch 14/100\n",
            "20/20 [==============================] - 0s 5ms/step - loss: 0.4683 - accuracy: 0.7834 - val_loss: 0.4873 - val_accuracy: 0.7662\n",
            "Epoch 15/100\n",
            "20/20 [==============================] - 0s 4ms/step - loss: 0.4653 - accuracy: 0.7801 - val_loss: 0.4856 - val_accuracy: 0.7792\n",
            "Epoch 16/100\n",
            "20/20 [==============================] - 0s 5ms/step - loss: 0.4633 - accuracy: 0.7850 - val_loss: 0.4844 - val_accuracy: 0.7922\n",
            "Epoch 17/100\n",
            "20/20 [==============================] - 0s 4ms/step - loss: 0.4609 - accuracy: 0.7850 - val_loss: 0.4834 - val_accuracy: 0.7922\n",
            "Epoch 18/100\n",
            "20/20 [==============================] - 0s 4ms/step - loss: 0.4593 - accuracy: 0.7818 - val_loss: 0.4835 - val_accuracy: 0.7857\n",
            "Epoch 19/100\n",
            "20/20 [==============================] - 0s 5ms/step - loss: 0.4575 - accuracy: 0.7801 - val_loss: 0.4825 - val_accuracy: 0.7857\n",
            "Epoch 20/100\n",
            "20/20 [==============================] - 0s 5ms/step - loss: 0.4559 - accuracy: 0.7818 - val_loss: 0.4821 - val_accuracy: 0.7857\n",
            "Epoch 21/100\n",
            "20/20 [==============================] - 0s 4ms/step - loss: 0.4548 - accuracy: 0.7818 - val_loss: 0.4814 - val_accuracy: 0.7922\n",
            "Epoch 22/100\n",
            "20/20 [==============================] - 0s 5ms/step - loss: 0.4535 - accuracy: 0.7850 - val_loss: 0.4801 - val_accuracy: 0.7857\n",
            "Epoch 23/100\n",
            "20/20 [==============================] - 0s 5ms/step - loss: 0.4521 - accuracy: 0.7850 - val_loss: 0.4806 - val_accuracy: 0.7857\n",
            "Epoch 24/100\n",
            "20/20 [==============================] - 0s 5ms/step - loss: 0.4512 - accuracy: 0.7850 - val_loss: 0.4814 - val_accuracy: 0.7792\n",
            "Epoch 25/100\n",
            "20/20 [==============================] - 0s 4ms/step - loss: 0.4502 - accuracy: 0.7801 - val_loss: 0.4808 - val_accuracy: 0.7857\n",
            "Epoch 26/100\n",
            "20/20 [==============================] - 0s 4ms/step - loss: 0.4492 - accuracy: 0.7850 - val_loss: 0.4794 - val_accuracy: 0.7792\n",
            "Epoch 27/100\n",
            "20/20 [==============================] - 0s 5ms/step - loss: 0.4488 - accuracy: 0.7866 - val_loss: 0.4794 - val_accuracy: 0.7727\n",
            "Epoch 28/100\n",
            "20/20 [==============================] - 0s 4ms/step - loss: 0.4478 - accuracy: 0.7834 - val_loss: 0.4788 - val_accuracy: 0.7792\n",
            "Epoch 29/100\n",
            "20/20 [==============================] - 0s 4ms/step - loss: 0.4472 - accuracy: 0.7818 - val_loss: 0.4783 - val_accuracy: 0.7792\n",
            "Epoch 30/100\n",
            "20/20 [==============================] - 0s 5ms/step - loss: 0.4461 - accuracy: 0.7850 - val_loss: 0.4783 - val_accuracy: 0.7792\n",
            "Epoch 31/100\n",
            "20/20 [==============================] - 0s 4ms/step - loss: 0.4456 - accuracy: 0.7866 - val_loss: 0.4796 - val_accuracy: 0.7792\n",
            "Epoch 32/100\n",
            "20/20 [==============================] - 0s 5ms/step - loss: 0.4453 - accuracy: 0.7866 - val_loss: 0.4807 - val_accuracy: 0.7857\n",
            "Epoch 33/100\n",
            "20/20 [==============================] - 0s 4ms/step - loss: 0.4446 - accuracy: 0.7850 - val_loss: 0.4797 - val_accuracy: 0.7792\n",
            "Epoch 34/100\n",
            "20/20 [==============================] - 0s 5ms/step - loss: 0.4437 - accuracy: 0.7866 - val_loss: 0.4783 - val_accuracy: 0.7792\n",
            "Epoch 35/100\n",
            "20/20 [==============================] - 0s 5ms/step - loss: 0.4431 - accuracy: 0.7866 - val_loss: 0.4789 - val_accuracy: 0.7792\n",
            "Epoch 36/100\n",
            "20/20 [==============================] - 0s 7ms/step - loss: 0.4432 - accuracy: 0.7866 - val_loss: 0.4785 - val_accuracy: 0.7792\n",
            "Epoch 37/100\n",
            "20/20 [==============================] - 0s 7ms/step - loss: 0.4418 - accuracy: 0.7866 - val_loss: 0.4785 - val_accuracy: 0.7727\n",
            "Epoch 38/100\n",
            "20/20 [==============================] - 0s 7ms/step - loss: 0.4419 - accuracy: 0.7866 - val_loss: 0.4776 - val_accuracy: 0.7792\n",
            "Epoch 39/100\n",
            "20/20 [==============================] - 0s 7ms/step - loss: 0.4413 - accuracy: 0.7834 - val_loss: 0.4763 - val_accuracy: 0.7727\n",
            "Epoch 40/100\n",
            "20/20 [==============================] - 0s 6ms/step - loss: 0.4407 - accuracy: 0.7883 - val_loss: 0.4770 - val_accuracy: 0.7727\n",
            "Epoch 41/100\n",
            "20/20 [==============================] - 0s 6ms/step - loss: 0.4399 - accuracy: 0.7915 - val_loss: 0.4767 - val_accuracy: 0.7727\n",
            "Epoch 42/100\n",
            "20/20 [==============================] - 0s 7ms/step - loss: 0.4393 - accuracy: 0.7866 - val_loss: 0.4768 - val_accuracy: 0.7727\n",
            "Epoch 43/100\n",
            "20/20 [==============================] - 0s 6ms/step - loss: 0.4390 - accuracy: 0.7883 - val_loss: 0.4761 - val_accuracy: 0.7727\n",
            "Epoch 44/100\n",
            "20/20 [==============================] - 0s 7ms/step - loss: 0.4382 - accuracy: 0.7899 - val_loss: 0.4754 - val_accuracy: 0.7727\n",
            "Epoch 45/100\n",
            "20/20 [==============================] - 0s 6ms/step - loss: 0.4378 - accuracy: 0.7899 - val_loss: 0.4750 - val_accuracy: 0.7727\n",
            "Epoch 46/100\n",
            "20/20 [==============================] - 0s 6ms/step - loss: 0.4372 - accuracy: 0.7915 - val_loss: 0.4757 - val_accuracy: 0.7727\n",
            "Epoch 47/100\n",
            "20/20 [==============================] - 0s 8ms/step - loss: 0.4367 - accuracy: 0.7866 - val_loss: 0.4740 - val_accuracy: 0.7727\n",
            "Epoch 48/100\n",
            "20/20 [==============================] - 0s 6ms/step - loss: 0.4360 - accuracy: 0.7899 - val_loss: 0.4749 - val_accuracy: 0.7727\n",
            "Epoch 49/100\n",
            "20/20 [==============================] - 0s 6ms/step - loss: 0.4367 - accuracy: 0.7899 - val_loss: 0.4750 - val_accuracy: 0.7727\n",
            "Epoch 50/100\n",
            "20/20 [==============================] - 0s 7ms/step - loss: 0.4363 - accuracy: 0.7883 - val_loss: 0.4729 - val_accuracy: 0.7727\n",
            "Epoch 51/100\n",
            "20/20 [==============================] - 0s 7ms/step - loss: 0.4353 - accuracy: 0.7932 - val_loss: 0.4738 - val_accuracy: 0.7727\n",
            "Epoch 52/100\n",
            "20/20 [==============================] - 0s 7ms/step - loss: 0.4344 - accuracy: 0.7915 - val_loss: 0.4729 - val_accuracy: 0.7727\n",
            "Epoch 53/100\n",
            "20/20 [==============================] - 0s 8ms/step - loss: 0.4348 - accuracy: 0.7899 - val_loss: 0.4737 - val_accuracy: 0.7792\n",
            "Epoch 54/100\n",
            "20/20 [==============================] - 0s 7ms/step - loss: 0.4340 - accuracy: 0.7932 - val_loss: 0.4734 - val_accuracy: 0.7727\n",
            "Epoch 55/100\n",
            "20/20 [==============================] - 0s 7ms/step - loss: 0.4328 - accuracy: 0.7915 - val_loss: 0.4721 - val_accuracy: 0.7792\n",
            "Epoch 56/100\n",
            "20/20 [==============================] - 0s 7ms/step - loss: 0.4332 - accuracy: 0.7915 - val_loss: 0.4719 - val_accuracy: 0.7792\n",
            "Epoch 57/100\n",
            "20/20 [==============================] - 0s 7ms/step - loss: 0.4321 - accuracy: 0.7932 - val_loss: 0.4731 - val_accuracy: 0.7792\n",
            "Epoch 58/100\n",
            "20/20 [==============================] - 0s 5ms/step - loss: 0.4317 - accuracy: 0.7915 - val_loss: 0.4733 - val_accuracy: 0.7857\n",
            "Epoch 59/100\n",
            "20/20 [==============================] - 0s 4ms/step - loss: 0.4313 - accuracy: 0.7899 - val_loss: 0.4738 - val_accuracy: 0.7792\n",
            "Epoch 60/100\n",
            "20/20 [==============================] - 0s 4ms/step - loss: 0.4312 - accuracy: 0.7915 - val_loss: 0.4720 - val_accuracy: 0.7792\n",
            "Epoch 61/100\n",
            "20/20 [==============================] - 0s 5ms/step - loss: 0.4307 - accuracy: 0.7932 - val_loss: 0.4721 - val_accuracy: 0.7792\n",
            "Epoch 62/100\n",
            "20/20 [==============================] - 0s 4ms/step - loss: 0.4297 - accuracy: 0.7964 - val_loss: 0.4724 - val_accuracy: 0.7792\n",
            "Epoch 63/100\n",
            "20/20 [==============================] - 0s 4ms/step - loss: 0.4297 - accuracy: 0.7964 - val_loss: 0.4710 - val_accuracy: 0.7727\n",
            "Epoch 64/100\n",
            "20/20 [==============================] - 0s 5ms/step - loss: 0.4290 - accuracy: 0.7964 - val_loss: 0.4707 - val_accuracy: 0.7727\n",
            "Epoch 65/100\n",
            "20/20 [==============================] - 0s 4ms/step - loss: 0.4288 - accuracy: 0.7980 - val_loss: 0.4706 - val_accuracy: 0.7792\n",
            "Epoch 66/100\n",
            "20/20 [==============================] - 0s 4ms/step - loss: 0.4285 - accuracy: 0.8029 - val_loss: 0.4687 - val_accuracy: 0.7727\n",
            "Epoch 67/100\n",
            "20/20 [==============================] - 0s 4ms/step - loss: 0.4279 - accuracy: 0.8029 - val_loss: 0.4684 - val_accuracy: 0.7727\n",
            "Epoch 68/100\n",
            "20/20 [==============================] - 0s 4ms/step - loss: 0.4273 - accuracy: 0.7997 - val_loss: 0.4690 - val_accuracy: 0.7727\n",
            "Epoch 69/100\n",
            "20/20 [==============================] - 0s 4ms/step - loss: 0.4279 - accuracy: 0.8013 - val_loss: 0.4654 - val_accuracy: 0.7727\n",
            "Epoch 70/100\n",
            "20/20 [==============================] - 0s 4ms/step - loss: 0.4271 - accuracy: 0.7997 - val_loss: 0.4664 - val_accuracy: 0.7792\n",
            "Epoch 71/100\n",
            "20/20 [==============================] - 0s 5ms/step - loss: 0.4267 - accuracy: 0.7980 - val_loss: 0.4657 - val_accuracy: 0.7727\n",
            "Epoch 72/100\n",
            "20/20 [==============================] - 0s 5ms/step - loss: 0.4258 - accuracy: 0.7964 - val_loss: 0.4679 - val_accuracy: 0.7792\n",
            "Epoch 73/100\n",
            "20/20 [==============================] - 0s 5ms/step - loss: 0.4255 - accuracy: 0.7964 - val_loss: 0.4690 - val_accuracy: 0.7792\n",
            "Epoch 74/100\n",
            "20/20 [==============================] - 0s 4ms/step - loss: 0.4254 - accuracy: 0.7980 - val_loss: 0.4691 - val_accuracy: 0.7792\n",
            "Epoch 75/100\n",
            "20/20 [==============================] - 0s 4ms/step - loss: 0.4249 - accuracy: 0.7997 - val_loss: 0.4694 - val_accuracy: 0.7792\n",
            "Epoch 76/100\n",
            "20/20 [==============================] - 0s 4ms/step - loss: 0.4241 - accuracy: 0.8013 - val_loss: 0.4687 - val_accuracy: 0.7792\n",
            "Epoch 77/100\n",
            "20/20 [==============================] - 0s 4ms/step - loss: 0.4239 - accuracy: 0.7980 - val_loss: 0.4686 - val_accuracy: 0.7857\n",
            "Epoch 78/100\n",
            "20/20 [==============================] - 0s 4ms/step - loss: 0.4240 - accuracy: 0.7964 - val_loss: 0.4689 - val_accuracy: 0.7792\n",
            "Epoch 79/100\n",
            "20/20 [==============================] - 0s 4ms/step - loss: 0.4237 - accuracy: 0.7997 - val_loss: 0.4680 - val_accuracy: 0.7792\n",
            "Epoch 80/100\n",
            "20/20 [==============================] - 0s 4ms/step - loss: 0.4232 - accuracy: 0.8013 - val_loss: 0.4691 - val_accuracy: 0.7792\n",
            "Epoch 81/100\n",
            "20/20 [==============================] - 0s 4ms/step - loss: 0.4231 - accuracy: 0.8029 - val_loss: 0.4693 - val_accuracy: 0.7792\n",
            "Epoch 82/100\n",
            "20/20 [==============================] - 0s 5ms/step - loss: 0.4220 - accuracy: 0.7980 - val_loss: 0.4698 - val_accuracy: 0.7857\n",
            "Epoch 83/100\n",
            "20/20 [==============================] - 0s 4ms/step - loss: 0.4220 - accuracy: 0.8046 - val_loss: 0.4697 - val_accuracy: 0.7857\n",
            "Epoch 84/100\n",
            "20/20 [==============================] - 0s 4ms/step - loss: 0.4219 - accuracy: 0.7997 - val_loss: 0.4705 - val_accuracy: 0.7857\n",
            "Epoch 85/100\n",
            "20/20 [==============================] - 0s 4ms/step - loss: 0.4213 - accuracy: 0.7997 - val_loss: 0.4686 - val_accuracy: 0.7857\n",
            "Epoch 86/100\n",
            "20/20 [==============================] - 0s 5ms/step - loss: 0.4206 - accuracy: 0.8062 - val_loss: 0.4704 - val_accuracy: 0.7857\n",
            "Epoch 87/100\n",
            "20/20 [==============================] - 0s 5ms/step - loss: 0.4210 - accuracy: 0.8013 - val_loss: 0.4705 - val_accuracy: 0.7857\n",
            "Epoch 88/100\n",
            "20/20 [==============================] - 0s 4ms/step - loss: 0.4200 - accuracy: 0.8046 - val_loss: 0.4705 - val_accuracy: 0.7857\n",
            "Epoch 89/100\n",
            "20/20 [==============================] - 0s 4ms/step - loss: 0.4197 - accuracy: 0.8046 - val_loss: 0.4689 - val_accuracy: 0.7857\n",
            "Epoch 90/100\n",
            "20/20 [==============================] - 0s 4ms/step - loss: 0.4194 - accuracy: 0.8029 - val_loss: 0.4691 - val_accuracy: 0.7857\n",
            "Epoch 91/100\n",
            "20/20 [==============================] - 0s 5ms/step - loss: 0.4190 - accuracy: 0.8029 - val_loss: 0.4701 - val_accuracy: 0.7857\n",
            "Epoch 92/100\n",
            "20/20 [==============================] - 0s 4ms/step - loss: 0.4188 - accuracy: 0.8029 - val_loss: 0.4677 - val_accuracy: 0.7857\n",
            "Epoch 93/100\n",
            "20/20 [==============================] - 0s 4ms/step - loss: 0.4188 - accuracy: 0.8062 - val_loss: 0.4682 - val_accuracy: 0.7857\n",
            "Epoch 94/100\n",
            "20/20 [==============================] - 0s 4ms/step - loss: 0.4182 - accuracy: 0.8046 - val_loss: 0.4663 - val_accuracy: 0.7857\n",
            "Epoch 95/100\n",
            "20/20 [==============================] - 0s 4ms/step - loss: 0.4176 - accuracy: 0.8078 - val_loss: 0.4677 - val_accuracy: 0.7857\n",
            "Epoch 96/100\n",
            "20/20 [==============================] - 0s 5ms/step - loss: 0.4177 - accuracy: 0.8029 - val_loss: 0.4683 - val_accuracy: 0.7857\n",
            "Epoch 97/100\n",
            "20/20 [==============================] - 0s 5ms/step - loss: 0.4175 - accuracy: 0.8062 - val_loss: 0.4685 - val_accuracy: 0.7922\n",
            "Epoch 98/100\n",
            "20/20 [==============================] - 0s 4ms/step - loss: 0.4168 - accuracy: 0.8078 - val_loss: 0.4682 - val_accuracy: 0.7922\n",
            "Epoch 99/100\n",
            "20/20 [==============================] - 0s 4ms/step - loss: 0.4165 - accuracy: 0.8062 - val_loss: 0.4688 - val_accuracy: 0.7792\n",
            "Epoch 100/100\n",
            "20/20 [==============================] - 0s 5ms/step - loss: 0.4166 - accuracy: 0.8062 - val_loss: 0.4694 - val_accuracy: 0.7922\n"
          ]
        },
        {
          "output_type": "execute_result",
          "data": {
            "text/plain": [
              "<keras.src.callbacks.History at 0x7f445a7014e0>"
            ]
          },
          "metadata": {},
          "execution_count": 25
        }
      ]
    },
    {
      "cell_type": "code",
      "source": [
        "# 1. How to select optimizer\n",
        "# 2. No. of nodes in a layer\n",
        "# 3. How to select no. of layers\n",
        "# 4. All in one Model"
      ],
      "metadata": {
        "id": "OZZ1SB2LONeF"
      },
      "execution_count": null,
      "outputs": []
    },
    {
      "cell_type": "code",
      "source": [
        "!pip install -U keras-tuner"
      ],
      "metadata": {
        "colab": {
          "base_uri": "https://localhost:8080/"
        },
        "id": "WpauYhPCQCjl",
        "outputId": "48f23439-e911-43b4-8870-9a23d614dfbf"
      },
      "execution_count": null,
      "outputs": [
        {
          "output_type": "stream",
          "name": "stdout",
          "text": [
            "Collecting keras-tuner\n",
            "  Downloading keras_tuner-1.4.7-py3-none-any.whl (129 kB)\n",
            "\u001b[2K     \u001b[90m━━━━━━━━━━━━━━━━━━━━━━━━━━━━━━━━━━━━━━━━\u001b[0m \u001b[32m129.1/129.1 kB\u001b[0m \u001b[31m3.7 MB/s\u001b[0m eta \u001b[36m0:00:00\u001b[0m\n",
            "\u001b[?25hRequirement already satisfied: keras in /usr/local/lib/python3.10/dist-packages (from keras-tuner) (2.15.0)\n",
            "Requirement already satisfied: packaging in /usr/local/lib/python3.10/dist-packages (from keras-tuner) (24.0)\n",
            "Requirement already satisfied: requests in /usr/local/lib/python3.10/dist-packages (from keras-tuner) (2.31.0)\n",
            "Collecting kt-legacy (from keras-tuner)\n",
            "  Downloading kt_legacy-1.0.5-py3-none-any.whl (9.6 kB)\n",
            "Requirement already satisfied: charset-normalizer<4,>=2 in /usr/local/lib/python3.10/dist-packages (from requests->keras-tuner) (3.3.2)\n",
            "Requirement already satisfied: idna<4,>=2.5 in /usr/local/lib/python3.10/dist-packages (from requests->keras-tuner) (3.6)\n",
            "Requirement already satisfied: urllib3<3,>=1.21.1 in /usr/local/lib/python3.10/dist-packages (from requests->keras-tuner) (2.0.7)\n",
            "Requirement already satisfied: certifi>=2017.4.17 in /usr/local/lib/python3.10/dist-packages (from requests->keras-tuner) (2024.2.2)\n",
            "Installing collected packages: kt-legacy, keras-tuner\n",
            "Successfully installed keras-tuner-1.4.7 kt-legacy-1.0.5\n"
          ]
        }
      ]
    },
    {
      "cell_type": "code",
      "source": [
        "import kerastuner as kt"
      ],
      "metadata": {
        "id": "LTwlIz0AP8Bz"
      },
      "execution_count": null,
      "outputs": []
    },
    {
      "cell_type": "code",
      "source": [
        "def build_model(hp):\n",
        "\n",
        "  model = Sequential()\n",
        "  model.add(Dense(32,activation='relu',input_dim=8))\n",
        "  model.add(Dense(1,activation='sigmoid'))\n",
        "\n",
        "# optimizer=hp.Choice('optimizer',['adam','sgd','rmsprop','adadelta']\n",
        "\n",
        "  model.compile(optimizer=hp.Choice('optimizer',values=['adam','sgd','rmsprop','adadelta']),loss='binary_crossentropy',metrics=['accuracy'])\n",
        "  return model"
      ],
      "metadata": {
        "id": "I1qAEGjYQIPR"
      },
      "execution_count": null,
      "outputs": []
    },
    {
      "cell_type": "code",
      "source": [
        "tuner=kt.RandomSearch(build_model,\n",
        "                      objective='val_accuracy',\n",
        "                      max_trials=5)"
      ],
      "metadata": {
        "colab": {
          "base_uri": "https://localhost:8080/"
        },
        "id": "-FVUuYlORn4d",
        "outputId": "0a18dc88-a968-4ccd-f8a9-c54990a0638c"
      },
      "execution_count": null,
      "outputs": [
        {
          "output_type": "stream",
          "name": "stdout",
          "text": [
            "Reloading Tuner from ./untitled_project/tuner0.json\n"
          ]
        }
      ]
    },
    {
      "cell_type": "code",
      "source": [
        "tuner.search(X_train,y_train,epochs=5,validation_data=(X_test,y_test))"
      ],
      "metadata": {
        "id": "we4wf9-ISCjk"
      },
      "execution_count": null,
      "outputs": []
    },
    {
      "cell_type": "code",
      "source": [
        "tuner.get_best_hyperparameters()[0].values"
      ],
      "metadata": {
        "colab": {
          "base_uri": "https://localhost:8080/"
        },
        "id": "Jy85a94bSYXP",
        "outputId": "7425c413-ff8b-4e84-a5f5-cc27e4fa2c6a"
      },
      "execution_count": null,
      "outputs": [
        {
          "output_type": "execute_result",
          "data": {
            "text/plain": [
              "{'optimizer': 'rmsprop'}"
            ]
          },
          "metadata": {},
          "execution_count": 38
        }
      ]
    },
    {
      "cell_type": "code",
      "source": [
        "model=tuner.get_best_models(num_models=1)[0]"
      ],
      "metadata": {
        "id": "2sVxqkMBS2fK"
      },
      "execution_count": null,
      "outputs": []
    },
    {
      "cell_type": "code",
      "source": [
        "model.summary()"
      ],
      "metadata": {
        "colab": {
          "base_uri": "https://localhost:8080/"
        },
        "id": "IEh5FpODTEDP",
        "outputId": "2d127bd9-c054-4e51-a1b4-b193303d9a4e"
      },
      "execution_count": null,
      "outputs": [
        {
          "output_type": "stream",
          "name": "stdout",
          "text": [
            "Model: \"sequential\"\n",
            "_________________________________________________________________\n",
            " Layer (type)                Output Shape              Param #   \n",
            "=================================================================\n",
            " dense (Dense)               (None, 32)                288       \n",
            "                                                                 \n",
            " dense_1 (Dense)             (None, 1)                 33        \n",
            "                                                                 \n",
            "=================================================================\n",
            "Total params: 321 (1.25 KB)\n",
            "Trainable params: 321 (1.25 KB)\n",
            "Non-trainable params: 0 (0.00 Byte)\n",
            "_________________________________________________________________\n"
          ]
        }
      ]
    },
    {
      "cell_type": "code",
      "source": [
        "model.fit(X_train,y_train,epochs=100,initial_epoch=6,validation_data=(X_test,y_test),batch_size=32)"
      ],
      "metadata": {
        "colab": {
          "base_uri": "https://localhost:8080/"
        },
        "id": "aMTovn4MTIc6",
        "outputId": "ff6bdf17-2090-4197-b8d8-844ffd3756d9"
      },
      "execution_count": null,
      "outputs": [
        {
          "output_type": "stream",
          "name": "stdout",
          "text": [
            "Epoch 7/100\n",
            "20/20 [==============================] - 1s 12ms/step - loss: 0.5384 - accuracy: 0.7443 - val_loss: 0.5240 - val_accuracy: 0.7727\n",
            "Epoch 8/100\n",
            "20/20 [==============================] - 0s 4ms/step - loss: 0.5193 - accuracy: 0.7590 - val_loss: 0.5073 - val_accuracy: 0.7857\n",
            "Epoch 9/100\n",
            "20/20 [==============================] - 0s 4ms/step - loss: 0.5048 - accuracy: 0.7671 - val_loss: 0.4952 - val_accuracy: 0.7922\n",
            "Epoch 10/100\n",
            "20/20 [==============================] - 0s 4ms/step - loss: 0.4940 - accuracy: 0.7704 - val_loss: 0.4857 - val_accuracy: 0.7987\n",
            "Epoch 11/100\n",
            "20/20 [==============================] - 0s 4ms/step - loss: 0.4855 - accuracy: 0.7769 - val_loss: 0.4789 - val_accuracy: 0.7987\n",
            "Epoch 12/100\n",
            "20/20 [==============================] - 0s 4ms/step - loss: 0.4795 - accuracy: 0.7785 - val_loss: 0.4739 - val_accuracy: 0.8052\n",
            "Epoch 13/100\n",
            "20/20 [==============================] - 0s 4ms/step - loss: 0.4745 - accuracy: 0.7834 - val_loss: 0.4706 - val_accuracy: 0.7987\n",
            "Epoch 14/100\n",
            "20/20 [==============================] - 0s 5ms/step - loss: 0.4703 - accuracy: 0.7785 - val_loss: 0.4678 - val_accuracy: 0.8117\n",
            "Epoch 15/100\n",
            "20/20 [==============================] - 0s 4ms/step - loss: 0.4671 - accuracy: 0.7818 - val_loss: 0.4651 - val_accuracy: 0.8117\n",
            "Epoch 16/100\n",
            "20/20 [==============================] - 0s 4ms/step - loss: 0.4644 - accuracy: 0.7818 - val_loss: 0.4638 - val_accuracy: 0.8117\n",
            "Epoch 17/100\n",
            "20/20 [==============================] - 0s 4ms/step - loss: 0.4622 - accuracy: 0.7818 - val_loss: 0.4636 - val_accuracy: 0.8117\n",
            "Epoch 18/100\n",
            "20/20 [==============================] - 0s 4ms/step - loss: 0.4599 - accuracy: 0.7834 - val_loss: 0.4627 - val_accuracy: 0.8117\n",
            "Epoch 19/100\n",
            "20/20 [==============================] - 0s 4ms/step - loss: 0.4580 - accuracy: 0.7818 - val_loss: 0.4624 - val_accuracy: 0.8117\n",
            "Epoch 20/100\n",
            "20/20 [==============================] - 0s 4ms/step - loss: 0.4569 - accuracy: 0.7850 - val_loss: 0.4623 - val_accuracy: 0.8117\n",
            "Epoch 21/100\n",
            "20/20 [==============================] - 0s 4ms/step - loss: 0.4557 - accuracy: 0.7785 - val_loss: 0.4618 - val_accuracy: 0.8117\n",
            "Epoch 22/100\n",
            "20/20 [==============================] - 0s 4ms/step - loss: 0.4550 - accuracy: 0.7850 - val_loss: 0.4610 - val_accuracy: 0.8052\n",
            "Epoch 23/100\n",
            "20/20 [==============================] - 0s 4ms/step - loss: 0.4539 - accuracy: 0.7785 - val_loss: 0.4609 - val_accuracy: 0.8052\n",
            "Epoch 24/100\n",
            "20/20 [==============================] - 0s 4ms/step - loss: 0.4531 - accuracy: 0.7818 - val_loss: 0.4608 - val_accuracy: 0.8052\n",
            "Epoch 25/100\n",
            "20/20 [==============================] - 0s 5ms/step - loss: 0.4525 - accuracy: 0.7785 - val_loss: 0.4604 - val_accuracy: 0.8052\n",
            "Epoch 26/100\n",
            "20/20 [==============================] - 0s 4ms/step - loss: 0.4516 - accuracy: 0.7818 - val_loss: 0.4601 - val_accuracy: 0.8052\n",
            "Epoch 27/100\n",
            "20/20 [==============================] - 0s 5ms/step - loss: 0.4507 - accuracy: 0.7801 - val_loss: 0.4595 - val_accuracy: 0.8052\n",
            "Epoch 28/100\n",
            "20/20 [==============================] - 0s 5ms/step - loss: 0.4496 - accuracy: 0.7850 - val_loss: 0.4600 - val_accuracy: 0.8052\n",
            "Epoch 29/100\n",
            "20/20 [==============================] - 0s 4ms/step - loss: 0.4496 - accuracy: 0.7834 - val_loss: 0.4600 - val_accuracy: 0.7987\n",
            "Epoch 30/100\n",
            "20/20 [==============================] - 0s 5ms/step - loss: 0.4488 - accuracy: 0.7818 - val_loss: 0.4598 - val_accuracy: 0.7987\n",
            "Epoch 31/100\n",
            "20/20 [==============================] - 0s 4ms/step - loss: 0.4481 - accuracy: 0.7752 - val_loss: 0.4593 - val_accuracy: 0.7987\n",
            "Epoch 32/100\n",
            "20/20 [==============================] - 0s 4ms/step - loss: 0.4476 - accuracy: 0.7801 - val_loss: 0.4606 - val_accuracy: 0.8052\n",
            "Epoch 33/100\n",
            "20/20 [==============================] - 0s 4ms/step - loss: 0.4468 - accuracy: 0.7801 - val_loss: 0.4602 - val_accuracy: 0.7987\n",
            "Epoch 34/100\n",
            "20/20 [==============================] - 0s 4ms/step - loss: 0.4464 - accuracy: 0.7769 - val_loss: 0.4591 - val_accuracy: 0.7987\n",
            "Epoch 35/100\n",
            "20/20 [==============================] - 0s 4ms/step - loss: 0.4461 - accuracy: 0.7801 - val_loss: 0.4584 - val_accuracy: 0.7987\n",
            "Epoch 36/100\n",
            "20/20 [==============================] - 0s 5ms/step - loss: 0.4454 - accuracy: 0.7801 - val_loss: 0.4583 - val_accuracy: 0.7987\n",
            "Epoch 37/100\n",
            "20/20 [==============================] - 0s 4ms/step - loss: 0.4456 - accuracy: 0.7769 - val_loss: 0.4576 - val_accuracy: 0.8052\n",
            "Epoch 38/100\n",
            "20/20 [==============================] - 0s 4ms/step - loss: 0.4445 - accuracy: 0.7769 - val_loss: 0.4581 - val_accuracy: 0.7987\n",
            "Epoch 39/100\n",
            "20/20 [==============================] - 0s 4ms/step - loss: 0.4438 - accuracy: 0.7801 - val_loss: 0.4583 - val_accuracy: 0.7987\n",
            "Epoch 40/100\n",
            "20/20 [==============================] - 0s 5ms/step - loss: 0.4438 - accuracy: 0.7785 - val_loss: 0.4579 - val_accuracy: 0.8052\n",
            "Epoch 41/100\n",
            "20/20 [==============================] - 0s 4ms/step - loss: 0.4433 - accuracy: 0.7801 - val_loss: 0.4583 - val_accuracy: 0.8052\n",
            "Epoch 42/100\n",
            "20/20 [==============================] - 0s 4ms/step - loss: 0.4426 - accuracy: 0.7769 - val_loss: 0.4585 - val_accuracy: 0.8052\n",
            "Epoch 43/100\n",
            "20/20 [==============================] - 0s 4ms/step - loss: 0.4423 - accuracy: 0.7752 - val_loss: 0.4586 - val_accuracy: 0.7987\n",
            "Epoch 44/100\n",
            "20/20 [==============================] - 0s 4ms/step - loss: 0.4421 - accuracy: 0.7769 - val_loss: 0.4585 - val_accuracy: 0.7987\n",
            "Epoch 45/100\n",
            "20/20 [==============================] - 0s 4ms/step - loss: 0.4413 - accuracy: 0.7818 - val_loss: 0.4582 - val_accuracy: 0.7987\n",
            "Epoch 46/100\n",
            "20/20 [==============================] - 0s 5ms/step - loss: 0.4415 - accuracy: 0.7785 - val_loss: 0.4575 - val_accuracy: 0.7987\n",
            "Epoch 47/100\n",
            "20/20 [==============================] - 0s 4ms/step - loss: 0.4405 - accuracy: 0.7818 - val_loss: 0.4574 - val_accuracy: 0.7987\n",
            "Epoch 48/100\n",
            "20/20 [==============================] - 0s 5ms/step - loss: 0.4407 - accuracy: 0.7785 - val_loss: 0.4574 - val_accuracy: 0.8052\n",
            "Epoch 49/100\n",
            "20/20 [==============================] - 0s 4ms/step - loss: 0.4396 - accuracy: 0.7801 - val_loss: 0.4572 - val_accuracy: 0.8052\n",
            "Epoch 50/100\n",
            "20/20 [==============================] - 0s 5ms/step - loss: 0.4389 - accuracy: 0.7769 - val_loss: 0.4570 - val_accuracy: 0.8052\n",
            "Epoch 51/100\n",
            "20/20 [==============================] - 0s 5ms/step - loss: 0.4391 - accuracy: 0.7801 - val_loss: 0.4572 - val_accuracy: 0.7987\n",
            "Epoch 52/100\n",
            "20/20 [==============================] - 0s 5ms/step - loss: 0.4384 - accuracy: 0.7785 - val_loss: 0.4573 - val_accuracy: 0.7987\n",
            "Epoch 53/100\n",
            "20/20 [==============================] - 0s 5ms/step - loss: 0.4383 - accuracy: 0.7736 - val_loss: 0.4570 - val_accuracy: 0.7987\n",
            "Epoch 54/100\n",
            "20/20 [==============================] - 0s 4ms/step - loss: 0.4372 - accuracy: 0.7752 - val_loss: 0.4572 - val_accuracy: 0.8052\n",
            "Epoch 55/100\n",
            "20/20 [==============================] - 0s 4ms/step - loss: 0.4370 - accuracy: 0.7801 - val_loss: 0.4572 - val_accuracy: 0.8052\n",
            "Epoch 56/100\n",
            "20/20 [==============================] - 0s 5ms/step - loss: 0.4367 - accuracy: 0.7720 - val_loss: 0.4573 - val_accuracy: 0.8052\n",
            "Epoch 57/100\n",
            "20/20 [==============================] - 0s 4ms/step - loss: 0.4364 - accuracy: 0.7801 - val_loss: 0.4578 - val_accuracy: 0.7987\n",
            "Epoch 58/100\n",
            "20/20 [==============================] - 0s 4ms/step - loss: 0.4358 - accuracy: 0.7834 - val_loss: 0.4574 - val_accuracy: 0.8052\n",
            "Epoch 59/100\n",
            "20/20 [==============================] - 0s 3ms/step - loss: 0.4357 - accuracy: 0.7866 - val_loss: 0.4575 - val_accuracy: 0.8052\n",
            "Epoch 60/100\n",
            "20/20 [==============================] - 0s 4ms/step - loss: 0.4355 - accuracy: 0.7834 - val_loss: 0.4574 - val_accuracy: 0.8117\n",
            "Epoch 61/100\n",
            "20/20 [==============================] - 0s 4ms/step - loss: 0.4349 - accuracy: 0.7752 - val_loss: 0.4586 - val_accuracy: 0.8182\n",
            "Epoch 62/100\n",
            "20/20 [==============================] - 0s 4ms/step - loss: 0.4342 - accuracy: 0.7866 - val_loss: 0.4587 - val_accuracy: 0.8117\n",
            "Epoch 63/100\n",
            "20/20 [==============================] - 0s 4ms/step - loss: 0.4344 - accuracy: 0.7850 - val_loss: 0.4579 - val_accuracy: 0.8052\n",
            "Epoch 64/100\n",
            "20/20 [==============================] - 0s 5ms/step - loss: 0.4338 - accuracy: 0.7850 - val_loss: 0.4570 - val_accuracy: 0.8052\n",
            "Epoch 65/100\n",
            "20/20 [==============================] - 0s 5ms/step - loss: 0.4335 - accuracy: 0.7834 - val_loss: 0.4571 - val_accuracy: 0.8182\n",
            "Epoch 66/100\n",
            "20/20 [==============================] - 0s 4ms/step - loss: 0.4328 - accuracy: 0.7883 - val_loss: 0.4570 - val_accuracy: 0.8117\n",
            "Epoch 67/100\n",
            "20/20 [==============================] - 0s 5ms/step - loss: 0.4324 - accuracy: 0.7866 - val_loss: 0.4577 - val_accuracy: 0.8117\n",
            "Epoch 68/100\n",
            "20/20 [==============================] - 0s 4ms/step - loss: 0.4325 - accuracy: 0.7866 - val_loss: 0.4581 - val_accuracy: 0.8182\n",
            "Epoch 69/100\n",
            "20/20 [==============================] - 0s 4ms/step - loss: 0.4318 - accuracy: 0.7769 - val_loss: 0.4584 - val_accuracy: 0.8117\n",
            "Epoch 70/100\n",
            "20/20 [==============================] - 0s 4ms/step - loss: 0.4317 - accuracy: 0.7883 - val_loss: 0.4574 - val_accuracy: 0.8182\n",
            "Epoch 71/100\n",
            "20/20 [==============================] - 0s 4ms/step - loss: 0.4311 - accuracy: 0.7915 - val_loss: 0.4576 - val_accuracy: 0.8182\n",
            "Epoch 72/100\n",
            "20/20 [==============================] - 0s 5ms/step - loss: 0.4309 - accuracy: 0.7883 - val_loss: 0.4574 - val_accuracy: 0.8117\n",
            "Epoch 73/100\n",
            "20/20 [==============================] - 0s 4ms/step - loss: 0.4302 - accuracy: 0.7899 - val_loss: 0.4580 - val_accuracy: 0.8117\n",
            "Epoch 74/100\n",
            "20/20 [==============================] - 0s 4ms/step - loss: 0.4300 - accuracy: 0.7899 - val_loss: 0.4574 - val_accuracy: 0.8052\n",
            "Epoch 75/100\n",
            "20/20 [==============================] - 0s 5ms/step - loss: 0.4296 - accuracy: 0.7899 - val_loss: 0.4571 - val_accuracy: 0.8117\n",
            "Epoch 76/100\n",
            "20/20 [==============================] - 0s 4ms/step - loss: 0.4289 - accuracy: 0.7899 - val_loss: 0.4570 - val_accuracy: 0.8117\n",
            "Epoch 77/100\n",
            "20/20 [==============================] - 0s 4ms/step - loss: 0.4291 - accuracy: 0.7915 - val_loss: 0.4572 - val_accuracy: 0.8117\n",
            "Epoch 78/100\n",
            "20/20 [==============================] - 0s 4ms/step - loss: 0.4286 - accuracy: 0.7915 - val_loss: 0.4563 - val_accuracy: 0.8117\n",
            "Epoch 79/100\n",
            "20/20 [==============================] - 0s 4ms/step - loss: 0.4283 - accuracy: 0.7899 - val_loss: 0.4561 - val_accuracy: 0.8117\n",
            "Epoch 80/100\n",
            "20/20 [==============================] - 0s 4ms/step - loss: 0.4274 - accuracy: 0.7899 - val_loss: 0.4564 - val_accuracy: 0.8052\n",
            "Epoch 81/100\n",
            "20/20 [==============================] - 0s 5ms/step - loss: 0.4277 - accuracy: 0.7948 - val_loss: 0.4561 - val_accuracy: 0.8117\n",
            "Epoch 82/100\n",
            "20/20 [==============================] - 0s 4ms/step - loss: 0.4269 - accuracy: 0.7948 - val_loss: 0.4555 - val_accuracy: 0.8182\n",
            "Epoch 83/100\n",
            "20/20 [==============================] - 0s 5ms/step - loss: 0.4268 - accuracy: 0.7932 - val_loss: 0.4556 - val_accuracy: 0.8182\n",
            "Epoch 84/100\n",
            "20/20 [==============================] - 0s 6ms/step - loss: 0.4263 - accuracy: 0.7964 - val_loss: 0.4562 - val_accuracy: 0.8312\n",
            "Epoch 85/100\n",
            "20/20 [==============================] - 0s 4ms/step - loss: 0.4262 - accuracy: 0.7932 - val_loss: 0.4571 - val_accuracy: 0.8247\n",
            "Epoch 86/100\n",
            "20/20 [==============================] - 0s 5ms/step - loss: 0.4259 - accuracy: 0.7948 - val_loss: 0.4566 - val_accuracy: 0.8117\n",
            "Epoch 87/100\n",
            "20/20 [==============================] - 0s 4ms/step - loss: 0.4255 - accuracy: 0.7980 - val_loss: 0.4564 - val_accuracy: 0.8182\n",
            "Epoch 88/100\n",
            "20/20 [==============================] - 0s 4ms/step - loss: 0.4251 - accuracy: 0.7964 - val_loss: 0.4568 - val_accuracy: 0.8117\n",
            "Epoch 89/100\n",
            "20/20 [==============================] - 0s 4ms/step - loss: 0.4247 - accuracy: 0.8013 - val_loss: 0.4568 - val_accuracy: 0.8182\n",
            "Epoch 90/100\n",
            "20/20 [==============================] - 0s 5ms/step - loss: 0.4244 - accuracy: 0.7964 - val_loss: 0.4569 - val_accuracy: 0.8182\n",
            "Epoch 91/100\n",
            "20/20 [==============================] - 0s 5ms/step - loss: 0.4242 - accuracy: 0.7932 - val_loss: 0.4571 - val_accuracy: 0.8182\n",
            "Epoch 92/100\n",
            "20/20 [==============================] - 0s 4ms/step - loss: 0.4241 - accuracy: 0.7932 - val_loss: 0.4577 - val_accuracy: 0.8182\n",
            "Epoch 93/100\n",
            "20/20 [==============================] - 0s 4ms/step - loss: 0.4237 - accuracy: 0.7948 - val_loss: 0.4579 - val_accuracy: 0.8182\n",
            "Epoch 94/100\n",
            "20/20 [==============================] - 0s 4ms/step - loss: 0.4231 - accuracy: 0.8046 - val_loss: 0.4577 - val_accuracy: 0.8117\n",
            "Epoch 95/100\n",
            "20/20 [==============================] - 0s 4ms/step - loss: 0.4228 - accuracy: 0.7997 - val_loss: 0.4585 - val_accuracy: 0.8117\n",
            "Epoch 96/100\n",
            "20/20 [==============================] - 0s 5ms/step - loss: 0.4224 - accuracy: 0.7915 - val_loss: 0.4581 - val_accuracy: 0.8117\n",
            "Epoch 97/100\n",
            "20/20 [==============================] - 0s 4ms/step - loss: 0.4221 - accuracy: 0.7980 - val_loss: 0.4577 - val_accuracy: 0.8117\n",
            "Epoch 98/100\n",
            "20/20 [==============================] - 0s 5ms/step - loss: 0.4220 - accuracy: 0.7997 - val_loss: 0.4583 - val_accuracy: 0.8052\n",
            "Epoch 99/100\n",
            "20/20 [==============================] - 0s 4ms/step - loss: 0.4215 - accuracy: 0.7932 - val_loss: 0.4577 - val_accuracy: 0.8182\n",
            "Epoch 100/100\n",
            "20/20 [==============================] - 0s 4ms/step - loss: 0.4211 - accuracy: 0.8013 - val_loss: 0.4596 - val_accuracy: 0.8182\n"
          ]
        },
        {
          "output_type": "execute_result",
          "data": {
            "text/plain": [
              "<keras.src.callbacks.History at 0x7f44691d34f0>"
            ]
          },
          "metadata": {},
          "execution_count": 41
        }
      ]
    },
    {
      "cell_type": "code",
      "source": [
        "def build_model(hp):\n",
        "  model=Sequential()\n",
        "  units=hp.Int('units',min_value=8,max_value=128)\n",
        "\n",
        "  model.add(Dense(units=units,activation='relu',input_dim=8))\n",
        "  model.add(Dense(1,activation='sigmoid'))\n",
        "\n",
        "  model.compile(optimizer='rmsprop',loss='binary_crossentropy',metrics=['accuracy'])\n",
        "\n",
        "  return model"
      ],
      "metadata": {
        "id": "QsfeN7YvT1Ws"
      },
      "execution_count": null,
      "outputs": []
    },
    {
      "cell_type": "code",
      "source": [
        "tuner=kt.RandomSearch(build_model,\n",
        "                      objective='val_accuracy',\n",
        "                      max_trials=5,\n",
        "                       directory='mydir',\n",
        "                       project_name='dl optimization')"
      ],
      "metadata": {
        "colab": {
          "base_uri": "https://localhost:8080/"
        },
        "id": "1cB4aR0FU4kd",
        "outputId": "1728a6d8-5d6e-4d8a-b27c-bee24961f45e"
      },
      "execution_count": null,
      "outputs": [
        {
          "output_type": "stream",
          "name": "stdout",
          "text": [
            "Reloading Tuner from mydir/dl optimization/tuner0.json\n"
          ]
        }
      ]
    },
    {
      "cell_type": "code",
      "source": [
        "tuner.search(X_train,y_train,epochs=5,validation_data=(X_test,y_test))"
      ],
      "metadata": {
        "id": "9DQP1QfDVYz6"
      },
      "execution_count": null,
      "outputs": []
    },
    {
      "cell_type": "code",
      "source": [
        "tuner.get_best_hyperparameters()[0].values"
      ],
      "metadata": {
        "colab": {
          "base_uri": "https://localhost:8080/"
        },
        "id": "JaVglApbVlCW",
        "outputId": "3a5a710d-ec84-4548-b91b-1aadaea20cfe"
      },
      "execution_count": null,
      "outputs": [
        {
          "output_type": "execute_result",
          "data": {
            "text/plain": [
              "{'units': 56}"
            ]
          },
          "metadata": {},
          "execution_count": 75
        }
      ]
    },
    {
      "cell_type": "code",
      "source": [
        "model = tuner.get_best_models(num_models=1)[0]"
      ],
      "metadata": {
        "id": "WanmZCtWV1Vu"
      },
      "execution_count": null,
      "outputs": []
    },
    {
      "cell_type": "code",
      "source": [
        "model.fit(X_train,y_train,epochs=100,batch_size=32,initial_epoch=6)"
      ],
      "metadata": {
        "colab": {
          "base_uri": "https://localhost:8080/"
        },
        "id": "5RRTI8sLZxpT",
        "outputId": "177b5068-a787-4418-a2f2-d437a4e7853b"
      },
      "execution_count": null,
      "outputs": [
        {
          "output_type": "stream",
          "name": "stdout",
          "text": [
            "Epoch 7/100\n",
            "20/20 [==============================] - 1s 3ms/step - loss: 0.4995 - accuracy: 0.7573\n",
            "Epoch 8/100\n",
            "20/20 [==============================] - 0s 4ms/step - loss: 0.4871 - accuracy: 0.7590\n",
            "Epoch 9/100\n",
            "20/20 [==============================] - 0s 2ms/step - loss: 0.4784 - accuracy: 0.7671\n",
            "Epoch 10/100\n",
            "20/20 [==============================] - 0s 3ms/step - loss: 0.4715 - accuracy: 0.7687\n",
            "Epoch 11/100\n",
            "20/20 [==============================] - 0s 2ms/step - loss: 0.4661 - accuracy: 0.7704\n",
            "Epoch 12/100\n",
            "20/20 [==============================] - 0s 3ms/step - loss: 0.4627 - accuracy: 0.7687\n",
            "Epoch 13/100\n",
            "20/20 [==============================] - 0s 2ms/step - loss: 0.4597 - accuracy: 0.7687\n",
            "Epoch 14/100\n",
            "20/20 [==============================] - 0s 2ms/step - loss: 0.4573 - accuracy: 0.7752\n",
            "Epoch 15/100\n",
            "20/20 [==============================] - 0s 2ms/step - loss: 0.4554 - accuracy: 0.7752\n",
            "Epoch 16/100\n",
            "20/20 [==============================] - 0s 3ms/step - loss: 0.4534 - accuracy: 0.7769\n",
            "Epoch 17/100\n",
            "20/20 [==============================] - 0s 2ms/step - loss: 0.4514 - accuracy: 0.7785\n",
            "Epoch 18/100\n",
            "20/20 [==============================] - 0s 2ms/step - loss: 0.4503 - accuracy: 0.7720\n",
            "Epoch 19/100\n",
            "20/20 [==============================] - 0s 3ms/step - loss: 0.4487 - accuracy: 0.7769\n",
            "Epoch 20/100\n",
            "20/20 [==============================] - 0s 2ms/step - loss: 0.4473 - accuracy: 0.7785\n",
            "Epoch 21/100\n",
            "20/20 [==============================] - 0s 3ms/step - loss: 0.4466 - accuracy: 0.7785\n",
            "Epoch 22/100\n",
            "20/20 [==============================] - 0s 3ms/step - loss: 0.4454 - accuracy: 0.7769\n",
            "Epoch 23/100\n",
            "20/20 [==============================] - 0s 2ms/step - loss: 0.4443 - accuracy: 0.7785\n",
            "Epoch 24/100\n",
            "20/20 [==============================] - 0s 2ms/step - loss: 0.4430 - accuracy: 0.7850\n",
            "Epoch 25/100\n",
            "20/20 [==============================] - 0s 2ms/step - loss: 0.4427 - accuracy: 0.7752\n",
            "Epoch 26/100\n",
            "20/20 [==============================] - 0s 2ms/step - loss: 0.4418 - accuracy: 0.7769\n",
            "Epoch 27/100\n",
            "20/20 [==============================] - 0s 2ms/step - loss: 0.4409 - accuracy: 0.7736\n",
            "Epoch 28/100\n",
            "20/20 [==============================] - 0s 2ms/step - loss: 0.4400 - accuracy: 0.7785\n",
            "Epoch 29/100\n",
            "20/20 [==============================] - 0s 2ms/step - loss: 0.4391 - accuracy: 0.7785\n",
            "Epoch 30/100\n",
            "20/20 [==============================] - 0s 2ms/step - loss: 0.4382 - accuracy: 0.7785\n",
            "Epoch 31/100\n",
            "20/20 [==============================] - 0s 2ms/step - loss: 0.4377 - accuracy: 0.7801\n",
            "Epoch 32/100\n",
            "20/20 [==============================] - 0s 2ms/step - loss: 0.4372 - accuracy: 0.7769\n",
            "Epoch 33/100\n",
            "20/20 [==============================] - 0s 2ms/step - loss: 0.4366 - accuracy: 0.7801\n",
            "Epoch 34/100\n",
            "20/20 [==============================] - 0s 2ms/step - loss: 0.4357 - accuracy: 0.7834\n",
            "Epoch 35/100\n",
            "20/20 [==============================] - 0s 2ms/step - loss: 0.4351 - accuracy: 0.7801\n",
            "Epoch 36/100\n",
            "20/20 [==============================] - 0s 2ms/step - loss: 0.4343 - accuracy: 0.7818\n",
            "Epoch 37/100\n",
            "20/20 [==============================] - 0s 2ms/step - loss: 0.4336 - accuracy: 0.7785\n",
            "Epoch 38/100\n",
            "20/20 [==============================] - 0s 3ms/step - loss: 0.4330 - accuracy: 0.7818\n",
            "Epoch 39/100\n",
            "20/20 [==============================] - 0s 2ms/step - loss: 0.4323 - accuracy: 0.7818\n",
            "Epoch 40/100\n",
            "20/20 [==============================] - 0s 2ms/step - loss: 0.4314 - accuracy: 0.7818\n",
            "Epoch 41/100\n",
            "20/20 [==============================] - 0s 2ms/step - loss: 0.4311 - accuracy: 0.7801\n",
            "Epoch 42/100\n",
            "20/20 [==============================] - 0s 3ms/step - loss: 0.4306 - accuracy: 0.7866\n",
            "Epoch 43/100\n",
            "20/20 [==============================] - 0s 2ms/step - loss: 0.4302 - accuracy: 0.7866\n",
            "Epoch 44/100\n",
            "20/20 [==============================] - 0s 2ms/step - loss: 0.4295 - accuracy: 0.7850\n",
            "Epoch 45/100\n",
            "20/20 [==============================] - 0s 2ms/step - loss: 0.4292 - accuracy: 0.7866\n",
            "Epoch 46/100\n",
            "20/20 [==============================] - 0s 2ms/step - loss: 0.4277 - accuracy: 0.7883\n",
            "Epoch 47/100\n",
            "20/20 [==============================] - 0s 2ms/step - loss: 0.4276 - accuracy: 0.7850\n",
            "Epoch 48/100\n",
            "20/20 [==============================] - 0s 2ms/step - loss: 0.4271 - accuracy: 0.7899\n",
            "Epoch 49/100\n",
            "20/20 [==============================] - 0s 2ms/step - loss: 0.4265 - accuracy: 0.7866\n",
            "Epoch 50/100\n",
            "20/20 [==============================] - 0s 2ms/step - loss: 0.4261 - accuracy: 0.7915\n",
            "Epoch 51/100\n",
            "20/20 [==============================] - 0s 2ms/step - loss: 0.4256 - accuracy: 0.7915\n",
            "Epoch 52/100\n",
            "20/20 [==============================] - 0s 2ms/step - loss: 0.4253 - accuracy: 0.7899\n",
            "Epoch 53/100\n",
            "20/20 [==============================] - 0s 2ms/step - loss: 0.4247 - accuracy: 0.7964\n",
            "Epoch 54/100\n",
            "20/20 [==============================] - 0s 2ms/step - loss: 0.4237 - accuracy: 0.7883\n",
            "Epoch 55/100\n",
            "20/20 [==============================] - 0s 2ms/step - loss: 0.4237 - accuracy: 0.7915\n",
            "Epoch 56/100\n",
            "20/20 [==============================] - 0s 2ms/step - loss: 0.4230 - accuracy: 0.7964\n",
            "Epoch 57/100\n",
            "20/20 [==============================] - 0s 3ms/step - loss: 0.4232 - accuracy: 0.7964\n",
            "Epoch 58/100\n",
            "20/20 [==============================] - 0s 2ms/step - loss: 0.4218 - accuracy: 0.7932\n",
            "Epoch 59/100\n",
            "20/20 [==============================] - 0s 2ms/step - loss: 0.4216 - accuracy: 0.7948\n",
            "Epoch 60/100\n",
            "20/20 [==============================] - 0s 2ms/step - loss: 0.4213 - accuracy: 0.7980\n",
            "Epoch 61/100\n",
            "20/20 [==============================] - 0s 2ms/step - loss: 0.4206 - accuracy: 0.7980\n",
            "Epoch 62/100\n",
            "20/20 [==============================] - 0s 2ms/step - loss: 0.4194 - accuracy: 0.7997\n",
            "Epoch 63/100\n",
            "20/20 [==============================] - 0s 2ms/step - loss: 0.4199 - accuracy: 0.7980\n",
            "Epoch 64/100\n",
            "20/20 [==============================] - 0s 2ms/step - loss: 0.4191 - accuracy: 0.7948\n",
            "Epoch 65/100\n",
            "20/20 [==============================] - 0s 3ms/step - loss: 0.4187 - accuracy: 0.7997\n",
            "Epoch 66/100\n",
            "20/20 [==============================] - 0s 2ms/step - loss: 0.4183 - accuracy: 0.7997\n",
            "Epoch 67/100\n",
            "20/20 [==============================] - 0s 2ms/step - loss: 0.4181 - accuracy: 0.7980\n",
            "Epoch 68/100\n",
            "20/20 [==============================] - 0s 2ms/step - loss: 0.4173 - accuracy: 0.7997\n",
            "Epoch 69/100\n",
            "20/20 [==============================] - 0s 2ms/step - loss: 0.4172 - accuracy: 0.8046\n",
            "Epoch 70/100\n",
            "20/20 [==============================] - 0s 2ms/step - loss: 0.4170 - accuracy: 0.8013\n",
            "Epoch 71/100\n",
            "20/20 [==============================] - 0s 2ms/step - loss: 0.4159 - accuracy: 0.8062\n",
            "Epoch 72/100\n",
            "20/20 [==============================] - 0s 2ms/step - loss: 0.4161 - accuracy: 0.8062\n",
            "Epoch 73/100\n",
            "20/20 [==============================] - 0s 2ms/step - loss: 0.4154 - accuracy: 0.8029\n",
            "Epoch 74/100\n",
            "20/20 [==============================] - 0s 3ms/step - loss: 0.4149 - accuracy: 0.8029\n",
            "Epoch 75/100\n",
            "20/20 [==============================] - 0s 2ms/step - loss: 0.4142 - accuracy: 0.8046\n",
            "Epoch 76/100\n",
            "20/20 [==============================] - 0s 3ms/step - loss: 0.4141 - accuracy: 0.7997\n",
            "Epoch 77/100\n",
            "20/20 [==============================] - 0s 2ms/step - loss: 0.4139 - accuracy: 0.8029\n",
            "Epoch 78/100\n",
            "20/20 [==============================] - 0s 2ms/step - loss: 0.4134 - accuracy: 0.7964\n",
            "Epoch 79/100\n",
            "20/20 [==============================] - 0s 2ms/step - loss: 0.4127 - accuracy: 0.8029\n",
            "Epoch 80/100\n",
            "20/20 [==============================] - 0s 2ms/step - loss: 0.4123 - accuracy: 0.7997\n",
            "Epoch 81/100\n",
            "20/20 [==============================] - 0s 2ms/step - loss: 0.4124 - accuracy: 0.8013\n",
            "Epoch 82/100\n",
            "20/20 [==============================] - 0s 2ms/step - loss: 0.4113 - accuracy: 0.8062\n",
            "Epoch 83/100\n",
            "20/20 [==============================] - 0s 2ms/step - loss: 0.4112 - accuracy: 0.8078\n",
            "Epoch 84/100\n",
            "20/20 [==============================] - 0s 2ms/step - loss: 0.4110 - accuracy: 0.8078\n",
            "Epoch 85/100\n",
            "20/20 [==============================] - 0s 2ms/step - loss: 0.4113 - accuracy: 0.7980\n",
            "Epoch 86/100\n",
            "20/20 [==============================] - 0s 2ms/step - loss: 0.4105 - accuracy: 0.8062\n",
            "Epoch 87/100\n",
            "20/20 [==============================] - 0s 2ms/step - loss: 0.4099 - accuracy: 0.8078\n",
            "Epoch 88/100\n",
            "20/20 [==============================] - 0s 2ms/step - loss: 0.4093 - accuracy: 0.8111\n",
            "Epoch 89/100\n",
            "20/20 [==============================] - 0s 2ms/step - loss: 0.4090 - accuracy: 0.8111\n",
            "Epoch 90/100\n",
            "20/20 [==============================] - 0s 2ms/step - loss: 0.4089 - accuracy: 0.8127\n",
            "Epoch 91/100\n",
            "20/20 [==============================] - 0s 2ms/step - loss: 0.4085 - accuracy: 0.8029\n",
            "Epoch 92/100\n",
            "20/20 [==============================] - 0s 3ms/step - loss: 0.4084 - accuracy: 0.8094\n",
            "Epoch 93/100\n",
            "20/20 [==============================] - 0s 2ms/step - loss: 0.4078 - accuracy: 0.8143\n",
            "Epoch 94/100\n",
            "20/20 [==============================] - 0s 4ms/step - loss: 0.4075 - accuracy: 0.8127\n",
            "Epoch 95/100\n",
            "20/20 [==============================] - 0s 2ms/step - loss: 0.4071 - accuracy: 0.8127\n",
            "Epoch 96/100\n",
            "20/20 [==============================] - 0s 2ms/step - loss: 0.4072 - accuracy: 0.8094\n",
            "Epoch 97/100\n",
            "20/20 [==============================] - 0s 2ms/step - loss: 0.4061 - accuracy: 0.8160\n",
            "Epoch 98/100\n",
            "20/20 [==============================] - 0s 2ms/step - loss: 0.4063 - accuracy: 0.8208\n",
            "Epoch 99/100\n",
            "20/20 [==============================] - 0s 2ms/step - loss: 0.4060 - accuracy: 0.8111\n",
            "Epoch 100/100\n",
            "20/20 [==============================] - 0s 2ms/step - loss: 0.4054 - accuracy: 0.8160\n"
          ]
        },
        {
          "output_type": "execute_result",
          "data": {
            "text/plain": [
              "<keras.src.callbacks.History at 0x7f4462ad1300>"
            ]
          },
          "metadata": {},
          "execution_count": 77
        }
      ]
    },
    {
      "cell_type": "code",
      "source": [
        "# selecting number of layers"
      ],
      "metadata": {
        "id": "91kfncwHZ_4t"
      },
      "execution_count": null,
      "outputs": []
    },
    {
      "cell_type": "code",
      "source": [
        "def build_model(hp):\n",
        "  model=Sequential()\n",
        "\n",
        "  model.add(Dense(56,activation='relu',input_dim=8))\n",
        "\n",
        "  for i in range(hp.Int('num_layers',min_value=1,max_value=10)):\n",
        "    model.add(Dense(56,activation='relu'))\n",
        "\n",
        "  model.add(Dense(1,activation='sigmoid'))\n",
        "\n",
        "  model.compile(optimizer='rmsprop',loss='binary_crossentropy',metrics=['accuracy'])\n",
        "\n",
        "  return model\n"
      ],
      "metadata": {
        "id": "OmRaSygba0vJ"
      },
      "execution_count": null,
      "outputs": []
    },
    {
      "cell_type": "code",
      "source": [
        "tuner=kt.RandomSearch(build_model,\n",
        "                      objective='val_accuracy',\n",
        "                      max_trials=3,\n",
        "                      directory='mydir',\n",
        "                      project_name='layer#')"
      ],
      "metadata": {
        "id": "Rvz0iOjvb4ux"
      },
      "execution_count": null,
      "outputs": []
    },
    {
      "cell_type": "code",
      "source": [
        "tuner.search(X_train,y_train,epochs=5,validation_data=(X_test,y_test))"
      ],
      "metadata": {
        "colab": {
          "base_uri": "https://localhost:8080/"
        },
        "id": "Gp9fmT15cKFi",
        "outputId": "1bf2d891-0a0e-4cce-dc08-6bb77c9e052c"
      },
      "execution_count": null,
      "outputs": [
        {
          "output_type": "stream",
          "name": "stdout",
          "text": [
            "Trial 3 Complete [00h 00m 03s]\n",
            "val_accuracy: 0.798701286315918\n",
            "\n",
            "Best val_accuracy So Far: 0.798701286315918\n",
            "Total elapsed time: 00h 00m 08s\n"
          ]
        }
      ]
    },
    {
      "cell_type": "code",
      "source": [
        "tuner.get_best_hyperparameters()[0].values"
      ],
      "metadata": {
        "colab": {
          "base_uri": "https://localhost:8080/"
        },
        "id": "oIvEG-IucRPJ",
        "outputId": "31611fbb-e796-4f1d-df79-d31769d3efa7"
      },
      "execution_count": null,
      "outputs": [
        {
          "output_type": "execute_result",
          "data": {
            "text/plain": [
              "{'num_layers': 3}"
            ]
          },
          "metadata": {},
          "execution_count": 82
        }
      ]
    },
    {
      "cell_type": "code",
      "source": [
        "model=tuner.get_best_models(num_models=1)[0]"
      ],
      "metadata": {
        "id": "SYZNH1mhcZEX"
      },
      "execution_count": null,
      "outputs": []
    },
    {
      "cell_type": "code",
      "source": [
        "model.fit(X_train,y_train,epochs=100,initial_epoch=6,validation_data=(X_test,y_test))"
      ],
      "metadata": {
        "colab": {
          "base_uri": "https://localhost:8080/"
        },
        "id": "3InhxND2ceJV",
        "outputId": "6a4a2fed-8998-4034-d473-346cd8853b50"
      },
      "execution_count": null,
      "outputs": [
        {
          "output_type": "stream",
          "name": "stdout",
          "text": [
            "Epoch 7/100\n",
            "20/20 [==============================] - 1s 25ms/step - loss: 0.4639 - accuracy: 0.7785 - val_loss: 0.4663 - val_accuracy: 0.7857\n",
            "Epoch 8/100\n",
            "20/20 [==============================] - 0s 7ms/step - loss: 0.4531 - accuracy: 0.7818 - val_loss: 0.4556 - val_accuracy: 0.7857\n",
            "Epoch 9/100\n",
            "20/20 [==============================] - 0s 7ms/step - loss: 0.4412 - accuracy: 0.8046 - val_loss: 0.4567 - val_accuracy: 0.7922\n",
            "Epoch 10/100\n",
            "20/20 [==============================] - 0s 6ms/step - loss: 0.4353 - accuracy: 0.8046 - val_loss: 0.4636 - val_accuracy: 0.7857\n",
            "Epoch 11/100\n",
            "20/20 [==============================] - 0s 6ms/step - loss: 0.4311 - accuracy: 0.7964 - val_loss: 0.4670 - val_accuracy: 0.7857\n",
            "Epoch 12/100\n",
            "20/20 [==============================] - 0s 7ms/step - loss: 0.4248 - accuracy: 0.8062 - val_loss: 0.4720 - val_accuracy: 0.7662\n",
            "Epoch 13/100\n",
            "20/20 [==============================] - 0s 7ms/step - loss: 0.4191 - accuracy: 0.7997 - val_loss: 0.4677 - val_accuracy: 0.7857\n",
            "Epoch 14/100\n",
            "20/20 [==============================] - 0s 6ms/step - loss: 0.4218 - accuracy: 0.8029 - val_loss: 0.4715 - val_accuracy: 0.7857\n",
            "Epoch 15/100\n",
            "20/20 [==============================] - 0s 8ms/step - loss: 0.4019 - accuracy: 0.8143 - val_loss: 0.5185 - val_accuracy: 0.7857\n",
            "Epoch 16/100\n",
            "20/20 [==============================] - 0s 8ms/step - loss: 0.4071 - accuracy: 0.8208 - val_loss: 0.4624 - val_accuracy: 0.7922\n",
            "Epoch 17/100\n",
            "20/20 [==============================] - 0s 7ms/step - loss: 0.3968 - accuracy: 0.8143 - val_loss: 0.4698 - val_accuracy: 0.7792\n",
            "Epoch 18/100\n",
            "20/20 [==============================] - 0s 7ms/step - loss: 0.3900 - accuracy: 0.8143 - val_loss: 0.4725 - val_accuracy: 0.7792\n",
            "Epoch 19/100\n",
            "20/20 [==============================] - 0s 8ms/step - loss: 0.3886 - accuracy: 0.8225 - val_loss: 0.4931 - val_accuracy: 0.7857\n",
            "Epoch 20/100\n",
            "20/20 [==============================] - 0s 8ms/step - loss: 0.3831 - accuracy: 0.8176 - val_loss: 0.4879 - val_accuracy: 0.7922\n",
            "Epoch 21/100\n",
            "20/20 [==============================] - 0s 8ms/step - loss: 0.3780 - accuracy: 0.8274 - val_loss: 0.4921 - val_accuracy: 0.7792\n",
            "Epoch 22/100\n",
            "20/20 [==============================] - 0s 9ms/step - loss: 0.3689 - accuracy: 0.8306 - val_loss: 0.4727 - val_accuracy: 0.7922\n",
            "Epoch 23/100\n",
            "20/20 [==============================] - 0s 5ms/step - loss: 0.3619 - accuracy: 0.8290 - val_loss: 0.4812 - val_accuracy: 0.7727\n",
            "Epoch 24/100\n",
            "20/20 [==============================] - 0s 5ms/step - loss: 0.3589 - accuracy: 0.8339 - val_loss: 0.4887 - val_accuracy: 0.7727\n",
            "Epoch 25/100\n",
            "20/20 [==============================] - 0s 6ms/step - loss: 0.3516 - accuracy: 0.8339 - val_loss: 0.4874 - val_accuracy: 0.7857\n",
            "Epoch 26/100\n",
            "20/20 [==============================] - 0s 6ms/step - loss: 0.3437 - accuracy: 0.8534 - val_loss: 0.5117 - val_accuracy: 0.7857\n",
            "Epoch 27/100\n",
            "20/20 [==============================] - 0s 5ms/step - loss: 0.3363 - accuracy: 0.8502 - val_loss: 0.4969 - val_accuracy: 0.7468\n",
            "Epoch 28/100\n",
            "20/20 [==============================] - 0s 5ms/step - loss: 0.3322 - accuracy: 0.8436 - val_loss: 0.5506 - val_accuracy: 0.7662\n",
            "Epoch 29/100\n",
            "20/20 [==============================] - 0s 6ms/step - loss: 0.3259 - accuracy: 0.8453 - val_loss: 0.5137 - val_accuracy: 0.7857\n",
            "Epoch 30/100\n",
            "20/20 [==============================] - 0s 4ms/step - loss: 0.3104 - accuracy: 0.8534 - val_loss: 0.5677 - val_accuracy: 0.7532\n",
            "Epoch 31/100\n",
            "20/20 [==============================] - 0s 5ms/step - loss: 0.3147 - accuracy: 0.8550 - val_loss: 0.5056 - val_accuracy: 0.7727\n",
            "Epoch 32/100\n",
            "20/20 [==============================] - 0s 4ms/step - loss: 0.3007 - accuracy: 0.8779 - val_loss: 0.5234 - val_accuracy: 0.7792\n",
            "Epoch 33/100\n",
            "20/20 [==============================] - 0s 4ms/step - loss: 0.2921 - accuracy: 0.8697 - val_loss: 0.5131 - val_accuracy: 0.7792\n",
            "Epoch 34/100\n",
            "20/20 [==============================] - 0s 5ms/step - loss: 0.2937 - accuracy: 0.8730 - val_loss: 0.5989 - val_accuracy: 0.7532\n",
            "Epoch 35/100\n",
            "20/20 [==============================] - 0s 4ms/step - loss: 0.2842 - accuracy: 0.8827 - val_loss: 0.5334 - val_accuracy: 0.7792\n",
            "Epoch 36/100\n",
            "20/20 [==============================] - 0s 6ms/step - loss: 0.2712 - accuracy: 0.9007 - val_loss: 0.6026 - val_accuracy: 0.7468\n",
            "Epoch 37/100\n",
            "20/20 [==============================] - 0s 5ms/step - loss: 0.2736 - accuracy: 0.8746 - val_loss: 0.5626 - val_accuracy: 0.7338\n",
            "Epoch 38/100\n",
            "20/20 [==============================] - 0s 5ms/step - loss: 0.2536 - accuracy: 0.8974 - val_loss: 0.5917 - val_accuracy: 0.7468\n",
            "Epoch 39/100\n",
            "20/20 [==============================] - 0s 5ms/step - loss: 0.2480 - accuracy: 0.8909 - val_loss: 0.6174 - val_accuracy: 0.7597\n",
            "Epoch 40/100\n",
            "20/20 [==============================] - 0s 5ms/step - loss: 0.2463 - accuracy: 0.8909 - val_loss: 0.5795 - val_accuracy: 0.7662\n",
            "Epoch 41/100\n",
            "20/20 [==============================] - 0s 4ms/step - loss: 0.2397 - accuracy: 0.9055 - val_loss: 0.6182 - val_accuracy: 0.7662\n",
            "Epoch 42/100\n",
            "20/20 [==============================] - 0s 5ms/step - loss: 0.2341 - accuracy: 0.9055 - val_loss: 0.5807 - val_accuracy: 0.7662\n",
            "Epoch 43/100\n",
            "20/20 [==============================] - 0s 6ms/step - loss: 0.2208 - accuracy: 0.9153 - val_loss: 0.6275 - val_accuracy: 0.7727\n",
            "Epoch 44/100\n",
            "20/20 [==============================] - 0s 5ms/step - loss: 0.2328 - accuracy: 0.9055 - val_loss: 0.6830 - val_accuracy: 0.7597\n",
            "Epoch 45/100\n",
            "20/20 [==============================] - 0s 5ms/step - loss: 0.2078 - accuracy: 0.9137 - val_loss: 0.6544 - val_accuracy: 0.7662\n",
            "Epoch 46/100\n",
            "20/20 [==============================] - 0s 5ms/step - loss: 0.1993 - accuracy: 0.9267 - val_loss: 0.7761 - val_accuracy: 0.7338\n",
            "Epoch 47/100\n",
            "20/20 [==============================] - 0s 5ms/step - loss: 0.2125 - accuracy: 0.9088 - val_loss: 0.6966 - val_accuracy: 0.7727\n",
            "Epoch 48/100\n",
            "20/20 [==============================] - 0s 6ms/step - loss: 0.1913 - accuracy: 0.9251 - val_loss: 0.7625 - val_accuracy: 0.7338\n",
            "Epoch 49/100\n",
            "20/20 [==============================] - 0s 5ms/step - loss: 0.1811 - accuracy: 0.9332 - val_loss: 0.7066 - val_accuracy: 0.7468\n",
            "Epoch 50/100\n",
            "20/20 [==============================] - 0s 4ms/step - loss: 0.1869 - accuracy: 0.9267 - val_loss: 0.8282 - val_accuracy: 0.7468\n",
            "Epoch 51/100\n",
            "20/20 [==============================] - 0s 5ms/step - loss: 0.1770 - accuracy: 0.9349 - val_loss: 0.7631 - val_accuracy: 0.7532\n",
            "Epoch 52/100\n",
            "20/20 [==============================] - 0s 5ms/step - loss: 0.1608 - accuracy: 0.9381 - val_loss: 0.7455 - val_accuracy: 0.7468\n",
            "Epoch 53/100\n",
            "20/20 [==============================] - 0s 4ms/step - loss: 0.1691 - accuracy: 0.9381 - val_loss: 0.7809 - val_accuracy: 0.7532\n",
            "Epoch 54/100\n",
            "20/20 [==============================] - 0s 6ms/step - loss: 0.1514 - accuracy: 0.9430 - val_loss: 0.7830 - val_accuracy: 0.7532\n",
            "Epoch 55/100\n",
            "20/20 [==============================] - 0s 5ms/step - loss: 0.1581 - accuracy: 0.9283 - val_loss: 0.7910 - val_accuracy: 0.7338\n",
            "Epoch 56/100\n",
            "20/20 [==============================] - 0s 5ms/step - loss: 0.1406 - accuracy: 0.9495 - val_loss: 0.8379 - val_accuracy: 0.7208\n",
            "Epoch 57/100\n",
            "20/20 [==============================] - 0s 5ms/step - loss: 0.1445 - accuracy: 0.9544 - val_loss: 0.8387 - val_accuracy: 0.7532\n",
            "Epoch 58/100\n",
            "20/20 [==============================] - 0s 5ms/step - loss: 0.1306 - accuracy: 0.9544 - val_loss: 0.8946 - val_accuracy: 0.7532\n",
            "Epoch 59/100\n",
            "20/20 [==============================] - 0s 5ms/step - loss: 0.1298 - accuracy: 0.9511 - val_loss: 0.9750 - val_accuracy: 0.7403\n",
            "Epoch 60/100\n",
            "20/20 [==============================] - 0s 4ms/step - loss: 0.1125 - accuracy: 0.9609 - val_loss: 0.9404 - val_accuracy: 0.7532\n",
            "Epoch 61/100\n",
            "20/20 [==============================] - 0s 4ms/step - loss: 0.1208 - accuracy: 0.9544 - val_loss: 1.0211 - val_accuracy: 0.6948\n",
            "Epoch 62/100\n",
            "20/20 [==============================] - 0s 5ms/step - loss: 0.1103 - accuracy: 0.9577 - val_loss: 0.9760 - val_accuracy: 0.7338\n",
            "Epoch 63/100\n",
            "20/20 [==============================] - 0s 5ms/step - loss: 0.0962 - accuracy: 0.9707 - val_loss: 1.0473 - val_accuracy: 0.7532\n",
            "Epoch 64/100\n",
            "20/20 [==============================] - 0s 5ms/step - loss: 0.1102 - accuracy: 0.9609 - val_loss: 0.9738 - val_accuracy: 0.7013\n",
            "Epoch 65/100\n",
            "20/20 [==============================] - 0s 6ms/step - loss: 0.0937 - accuracy: 0.9707 - val_loss: 1.0369 - val_accuracy: 0.7532\n",
            "Epoch 66/100\n",
            "20/20 [==============================] - 0s 5ms/step - loss: 0.1010 - accuracy: 0.9609 - val_loss: 1.1155 - val_accuracy: 0.7338\n",
            "Epoch 67/100\n",
            "20/20 [==============================] - 0s 5ms/step - loss: 0.0808 - accuracy: 0.9674 - val_loss: 1.0960 - val_accuracy: 0.7662\n",
            "Epoch 68/100\n",
            "20/20 [==============================] - 0s 5ms/step - loss: 0.0886 - accuracy: 0.9707 - val_loss: 1.1417 - val_accuracy: 0.7403\n",
            "Epoch 69/100\n",
            "20/20 [==============================] - 0s 5ms/step - loss: 0.0806 - accuracy: 0.9756 - val_loss: 1.0826 - val_accuracy: 0.7597\n",
            "Epoch 70/100\n",
            "20/20 [==============================] - 0s 5ms/step - loss: 0.0677 - accuracy: 0.9788 - val_loss: 1.1017 - val_accuracy: 0.7597\n",
            "Epoch 71/100\n",
            "20/20 [==============================] - 0s 4ms/step - loss: 0.0825 - accuracy: 0.9707 - val_loss: 1.1286 - val_accuracy: 0.7273\n",
            "Epoch 72/100\n",
            "20/20 [==============================] - 0s 5ms/step - loss: 0.0643 - accuracy: 0.9756 - val_loss: 1.1788 - val_accuracy: 0.7338\n",
            "Epoch 73/100\n",
            "20/20 [==============================] - 0s 5ms/step - loss: 0.0745 - accuracy: 0.9805 - val_loss: 1.2471 - val_accuracy: 0.7403\n",
            "Epoch 74/100\n",
            "20/20 [==============================] - 0s 4ms/step - loss: 0.0589 - accuracy: 0.9837 - val_loss: 1.2159 - val_accuracy: 0.7597\n",
            "Epoch 75/100\n",
            "20/20 [==============================] - 0s 5ms/step - loss: 0.0652 - accuracy: 0.9821 - val_loss: 1.3659 - val_accuracy: 0.7208\n",
            "Epoch 76/100\n",
            "20/20 [==============================] - 0s 4ms/step - loss: 0.0624 - accuracy: 0.9805 - val_loss: 1.2676 - val_accuracy: 0.7338\n",
            "Epoch 77/100\n",
            "20/20 [==============================] - 0s 5ms/step - loss: 0.0557 - accuracy: 0.9870 - val_loss: 1.3584 - val_accuracy: 0.7338\n",
            "Epoch 78/100\n",
            "20/20 [==============================] - 0s 5ms/step - loss: 0.0687 - accuracy: 0.9756 - val_loss: 1.3451 - val_accuracy: 0.7208\n",
            "Epoch 79/100\n",
            "20/20 [==============================] - 0s 4ms/step - loss: 0.0545 - accuracy: 0.9788 - val_loss: 1.3845 - val_accuracy: 0.7143\n",
            "Epoch 80/100\n",
            "20/20 [==============================] - 0s 4ms/step - loss: 0.0501 - accuracy: 0.9853 - val_loss: 1.3463 - val_accuracy: 0.7532\n",
            "Epoch 81/100\n",
            "20/20 [==============================] - 0s 4ms/step - loss: 0.0692 - accuracy: 0.9739 - val_loss: 1.4749 - val_accuracy: 0.7208\n",
            "Epoch 82/100\n",
            "20/20 [==============================] - 0s 4ms/step - loss: 0.0452 - accuracy: 0.9886 - val_loss: 1.3587 - val_accuracy: 0.7273\n",
            "Epoch 83/100\n",
            "20/20 [==============================] - 0s 5ms/step - loss: 0.0574 - accuracy: 0.9772 - val_loss: 1.4201 - val_accuracy: 0.7468\n",
            "Epoch 84/100\n",
            "20/20 [==============================] - 0s 5ms/step - loss: 0.0355 - accuracy: 0.9902 - val_loss: 1.3864 - val_accuracy: 0.7532\n",
            "Epoch 85/100\n",
            "20/20 [==============================] - 0s 6ms/step - loss: 0.0548 - accuracy: 0.9805 - val_loss: 1.4921 - val_accuracy: 0.7273\n",
            "Epoch 86/100\n",
            "20/20 [==============================] - 0s 6ms/step - loss: 0.0330 - accuracy: 0.9886 - val_loss: 1.4841 - val_accuracy: 0.7273\n",
            "Epoch 87/100\n",
            "20/20 [==============================] - 0s 4ms/step - loss: 0.0479 - accuracy: 0.9886 - val_loss: 1.5417 - val_accuracy: 0.7078\n",
            "Epoch 88/100\n",
            "20/20 [==============================] - 0s 4ms/step - loss: 0.0495 - accuracy: 0.9805 - val_loss: 1.5650 - val_accuracy: 0.7403\n",
            "Epoch 89/100\n",
            "20/20 [==============================] - 0s 5ms/step - loss: 0.0286 - accuracy: 0.9935 - val_loss: 1.6237 - val_accuracy: 0.7078\n",
            "Epoch 90/100\n",
            "20/20 [==============================] - 0s 4ms/step - loss: 0.0451 - accuracy: 0.9853 - val_loss: 1.6078 - val_accuracy: 0.7273\n",
            "Epoch 91/100\n",
            "20/20 [==============================] - 0s 5ms/step - loss: 0.0287 - accuracy: 0.9951 - val_loss: 1.5784 - val_accuracy: 0.7338\n",
            "Epoch 92/100\n",
            "20/20 [==============================] - 0s 4ms/step - loss: 0.0385 - accuracy: 0.9870 - val_loss: 1.6724 - val_accuracy: 0.7597\n",
            "Epoch 93/100\n",
            "20/20 [==============================] - 0s 4ms/step - loss: 0.0317 - accuracy: 0.9919 - val_loss: 1.6504 - val_accuracy: 0.7338\n",
            "Epoch 94/100\n",
            "20/20 [==============================] - 0s 4ms/step - loss: 0.0395 - accuracy: 0.9837 - val_loss: 1.7629 - val_accuracy: 0.7403\n",
            "Epoch 95/100\n",
            "20/20 [==============================] - 0s 5ms/step - loss: 0.0194 - accuracy: 0.9951 - val_loss: 1.8089 - val_accuracy: 0.7338\n",
            "Epoch 96/100\n",
            "20/20 [==============================] - 0s 5ms/step - loss: 0.0438 - accuracy: 0.9870 - val_loss: 1.9484 - val_accuracy: 0.6753\n",
            "Epoch 97/100\n",
            "20/20 [==============================] - 0s 4ms/step - loss: 0.0331 - accuracy: 0.9935 - val_loss: 1.7482 - val_accuracy: 0.7338\n",
            "Epoch 98/100\n",
            "20/20 [==============================] - 0s 4ms/step - loss: 0.0270 - accuracy: 0.9935 - val_loss: 1.7030 - val_accuracy: 0.7143\n",
            "Epoch 99/100\n",
            "20/20 [==============================] - 0s 5ms/step - loss: 0.0289 - accuracy: 0.9902 - val_loss: 1.7435 - val_accuracy: 0.7532\n",
            "Epoch 100/100\n",
            "20/20 [==============================] - 0s 4ms/step - loss: 0.0220 - accuracy: 0.9951 - val_loss: 1.8958 - val_accuracy: 0.7403\n"
          ]
        },
        {
          "output_type": "execute_result",
          "data": {
            "text/plain": [
              "<keras.src.callbacks.History at 0x7f4462bd7ee0>"
            ]
          },
          "metadata": {},
          "execution_count": 84
        }
      ]
    },
    {
      "cell_type": "code",
      "source": [
        "# number of layers and number of nodes in it"
      ],
      "metadata": {
        "id": "iJbyvv9wcmHF"
      },
      "execution_count": null,
      "outputs": []
    },
    {
      "cell_type": "code",
      "source": [
        "def build_model(hp):\n",
        "\n",
        "  model=Sequential()\n",
        "\n",
        "  counter=0\n",
        "\n",
        "  for i in range(hp.Int('num_layers',min_value=1,max_value=10)):\n",
        "\n",
        "    if counter==0:\n",
        "      model.add(Dense(hp.Int('units'+str(i),min_value=8,max_value=128,step=8),activation=hp.Choice('activation'+str(i),values=['relu','tanh','sigmoid']),input_dim=8))\n",
        "      model.add(Dropout(hp.Choice('dropout'+str(i),values=[0.1,0.2,0.3,0.4,0.5,0.6,0.7,0.8,0.9])))\n",
        "    else:\n",
        "      model.add(Dense(hp.Int('units'+str(i),min_value=8,max_value=128,step=8),activation=hp.Choice('activation'+str(i),values=['relu','tanh','sigmoid'])))\n",
        "      model.add(Dropout(hp.Choice('dropout'+str(i),values=[0.1,0.2,0.3,0.4,0.5,0.6,0.7,0.8,0.9])))\n",
        "    counter+=1\n",
        "\n",
        "  model.add(Dense(1,activation='sigmoid'))\n",
        "\n",
        "  model.compile(optimizer=hp.Choice('optimizer',values=['rmsprop','adam','sgd','nadam','adadelta']),loss='binary_crossentropy',metrics=['accuracy'])\n",
        "  return model"
      ],
      "metadata": {
        "id": "7Ygro85Icw5W"
      },
      "execution_count": null,
      "outputs": []
    },
    {
      "cell_type": "code",
      "source": [
        "tuner=kt.RandomSearch(\n",
        "    build_model,\n",
        "    objective='val_accuracy',\n",
        "    max_trials=5,\n",
        "    directory='mydir',\n",
        "    project_name='giant_model_final'\n",
        ")"
      ],
      "metadata": {
        "id": "HT-5ekxge9s3"
      },
      "execution_count": null,
      "outputs": []
    },
    {
      "cell_type": "code",
      "source": [
        "tuner.search(X_train,y_train,epochs=5,validation_data=(X_test,y_test))"
      ],
      "metadata": {
        "colab": {
          "base_uri": "https://localhost:8080/"
        },
        "id": "-v3VRJ35fy2K",
        "outputId": "31a508d2-8301-4236-ad84-19150b68ef17"
      },
      "execution_count": null,
      "outputs": [
        {
          "output_type": "stream",
          "name": "stdout",
          "text": [
            "Trial 5 Complete [00h 00m 03s]\n",
            "val_accuracy: 0.6428571343421936\n",
            "\n",
            "Best val_accuracy So Far: 0.8051947951316833\n",
            "Total elapsed time: 00h 00m 18s\n"
          ]
        }
      ]
    },
    {
      "cell_type": "code",
      "source": [
        "tuner.get_best_hyperparameters()[0].values"
      ],
      "metadata": {
        "colab": {
          "base_uri": "https://localhost:8080/"
        },
        "id": "yJ7-Qf-shJDJ",
        "outputId": "96eabbdd-69f8-49b1-b272-1e3345a3955b"
      },
      "execution_count": null,
      "outputs": [
        {
          "output_type": "execute_result",
          "data": {
            "text/plain": [
              "{'num_layers': 3,\n",
              " 'units0': 104,\n",
              " 'activation0': 'tanh',\n",
              " 'dropout0': 0.8,\n",
              " 'optimizer': 'nadam',\n",
              " 'units1': 112,\n",
              " 'activation1': 'relu',\n",
              " 'dropout1': 0.4,\n",
              " 'units2': 120,\n",
              " 'activation2': 'relu',\n",
              " 'dropout2': 0.5,\n",
              " 'units3': 8,\n",
              " 'activation3': 'relu',\n",
              " 'dropout3': 0.3,\n",
              " 'units4': 72,\n",
              " 'activation4': 'sigmoid',\n",
              " 'dropout4': 0.1,\n",
              " 'units5': 40,\n",
              " 'activation5': 'tanh',\n",
              " 'dropout5': 0.3,\n",
              " 'units6': 88,\n",
              " 'activation6': 'sigmoid',\n",
              " 'dropout6': 0.4}"
            ]
          },
          "metadata": {},
          "execution_count": 129
        }
      ]
    },
    {
      "cell_type": "code",
      "source": [
        "model=tuner.get_best_models(num_models=1)[0]"
      ],
      "metadata": {
        "id": "ob5AKuILhhek"
      },
      "execution_count": null,
      "outputs": []
    },
    {
      "cell_type": "code",
      "source": [
        "model.fit(X_train,y_train,epochs=100,initial_epoch=5,validation_data=(X_test,y_test))"
      ],
      "metadata": {
        "colab": {
          "base_uri": "https://localhost:8080/"
        },
        "id": "uCeemR7GjPAY",
        "outputId": "710d9220-7eae-4c20-ffa8-e671296a0b92"
      },
      "execution_count": null,
      "outputs": [
        {
          "output_type": "stream",
          "name": "stdout",
          "text": [
            "Epoch 6/100\n",
            "20/20 [==============================] - 3s 17ms/step - loss: 0.5452 - accuracy: 0.7280 - val_loss: 0.4792 - val_accuracy: 0.8052\n",
            "Epoch 7/100\n",
            "20/20 [==============================] - 0s 5ms/step - loss: 0.5223 - accuracy: 0.7362 - val_loss: 0.4784 - val_accuracy: 0.8052\n",
            "Epoch 8/100\n",
            "20/20 [==============================] - 0s 6ms/step - loss: 0.5579 - accuracy: 0.7199 - val_loss: 0.4787 - val_accuracy: 0.8117\n",
            "Epoch 9/100\n",
            "20/20 [==============================] - 0s 6ms/step - loss: 0.5082 - accuracy: 0.7410 - val_loss: 0.4777 - val_accuracy: 0.7987\n",
            "Epoch 10/100\n",
            "20/20 [==============================] - 0s 6ms/step - loss: 0.5160 - accuracy: 0.7329 - val_loss: 0.4767 - val_accuracy: 0.7987\n",
            "Epoch 11/100\n",
            "20/20 [==============================] - 0s 6ms/step - loss: 0.5297 - accuracy: 0.7264 - val_loss: 0.4801 - val_accuracy: 0.7922\n",
            "Epoch 12/100\n",
            "20/20 [==============================] - 0s 5ms/step - loss: 0.5057 - accuracy: 0.7394 - val_loss: 0.4820 - val_accuracy: 0.7922\n",
            "Epoch 13/100\n",
            "20/20 [==============================] - 0s 6ms/step - loss: 0.5386 - accuracy: 0.7231 - val_loss: 0.4812 - val_accuracy: 0.7922\n",
            "Epoch 14/100\n",
            "20/20 [==============================] - 0s 6ms/step - loss: 0.5123 - accuracy: 0.7280 - val_loss: 0.4772 - val_accuracy: 0.7987\n",
            "Epoch 15/100\n",
            "20/20 [==============================] - 0s 5ms/step - loss: 0.5203 - accuracy: 0.7362 - val_loss: 0.4783 - val_accuracy: 0.8117\n",
            "Epoch 16/100\n",
            "20/20 [==============================] - 0s 6ms/step - loss: 0.5125 - accuracy: 0.7345 - val_loss: 0.4815 - val_accuracy: 0.8117\n",
            "Epoch 17/100\n",
            "20/20 [==============================] - 0s 6ms/step - loss: 0.5166 - accuracy: 0.7476 - val_loss: 0.4823 - val_accuracy: 0.8182\n",
            "Epoch 18/100\n",
            "20/20 [==============================] - 0s 6ms/step - loss: 0.4984 - accuracy: 0.7508 - val_loss: 0.4856 - val_accuracy: 0.8247\n",
            "Epoch 19/100\n",
            "20/20 [==============================] - 0s 6ms/step - loss: 0.4964 - accuracy: 0.7573 - val_loss: 0.4846 - val_accuracy: 0.7922\n",
            "Epoch 20/100\n",
            "20/20 [==============================] - 0s 5ms/step - loss: 0.5233 - accuracy: 0.7378 - val_loss: 0.4859 - val_accuracy: 0.7987\n",
            "Epoch 21/100\n",
            "20/20 [==============================] - 0s 6ms/step - loss: 0.5055 - accuracy: 0.7606 - val_loss: 0.4893 - val_accuracy: 0.7987\n",
            "Epoch 22/100\n",
            "20/20 [==============================] - 0s 6ms/step - loss: 0.4992 - accuracy: 0.7345 - val_loss: 0.4904 - val_accuracy: 0.8052\n",
            "Epoch 23/100\n",
            "20/20 [==============================] - 0s 5ms/step - loss: 0.5094 - accuracy: 0.7606 - val_loss: 0.4916 - val_accuracy: 0.8052\n",
            "Epoch 24/100\n",
            "20/20 [==============================] - 0s 5ms/step - loss: 0.5129 - accuracy: 0.7459 - val_loss: 0.4905 - val_accuracy: 0.7987\n",
            "Epoch 25/100\n",
            "20/20 [==============================] - 0s 6ms/step - loss: 0.4952 - accuracy: 0.7524 - val_loss: 0.4897 - val_accuracy: 0.8052\n",
            "Epoch 26/100\n",
            "20/20 [==============================] - 0s 5ms/step - loss: 0.5268 - accuracy: 0.7345 - val_loss: 0.4885 - val_accuracy: 0.7987\n",
            "Epoch 27/100\n",
            "20/20 [==============================] - 0s 6ms/step - loss: 0.5024 - accuracy: 0.7524 - val_loss: 0.4954 - val_accuracy: 0.8117\n",
            "Epoch 28/100\n",
            "20/20 [==============================] - 0s 6ms/step - loss: 0.5037 - accuracy: 0.7410 - val_loss: 0.4962 - val_accuracy: 0.7987\n",
            "Epoch 29/100\n",
            "20/20 [==============================] - 0s 6ms/step - loss: 0.4933 - accuracy: 0.7427 - val_loss: 0.4956 - val_accuracy: 0.7922\n",
            "Epoch 30/100\n",
            "20/20 [==============================] - 0s 6ms/step - loss: 0.5065 - accuracy: 0.7378 - val_loss: 0.4928 - val_accuracy: 0.7987\n",
            "Epoch 31/100\n",
            "20/20 [==============================] - 0s 6ms/step - loss: 0.4998 - accuracy: 0.7606 - val_loss: 0.4928 - val_accuracy: 0.7987\n",
            "Epoch 32/100\n",
            "20/20 [==============================] - 0s 6ms/step - loss: 0.4870 - accuracy: 0.7590 - val_loss: 0.4914 - val_accuracy: 0.8052\n",
            "Epoch 33/100\n",
            "20/20 [==============================] - 0s 6ms/step - loss: 0.4905 - accuracy: 0.7524 - val_loss: 0.4886 - val_accuracy: 0.8052\n",
            "Epoch 34/100\n",
            "20/20 [==============================] - 0s 5ms/step - loss: 0.5140 - accuracy: 0.7622 - val_loss: 0.4893 - val_accuracy: 0.7987\n",
            "Epoch 35/100\n",
            "20/20 [==============================] - 0s 6ms/step - loss: 0.5015 - accuracy: 0.7476 - val_loss: 0.4891 - val_accuracy: 0.8052\n",
            "Epoch 36/100\n",
            "20/20 [==============================] - 0s 6ms/step - loss: 0.5000 - accuracy: 0.7541 - val_loss: 0.4903 - val_accuracy: 0.8052\n",
            "Epoch 37/100\n",
            "20/20 [==============================] - 0s 6ms/step - loss: 0.4942 - accuracy: 0.7427 - val_loss: 0.4882 - val_accuracy: 0.8052\n",
            "Epoch 38/100\n",
            "20/20 [==============================] - 0s 5ms/step - loss: 0.4804 - accuracy: 0.7687 - val_loss: 0.4866 - val_accuracy: 0.8052\n",
            "Epoch 39/100\n",
            "20/20 [==============================] - 0s 7ms/step - loss: 0.4878 - accuracy: 0.7492 - val_loss: 0.4864 - val_accuracy: 0.8052\n",
            "Epoch 40/100\n",
            "20/20 [==============================] - 0s 5ms/step - loss: 0.4810 - accuracy: 0.7687 - val_loss: 0.4854 - val_accuracy: 0.8052\n",
            "Epoch 41/100\n",
            "20/20 [==============================] - 0s 5ms/step - loss: 0.4929 - accuracy: 0.7459 - val_loss: 0.4882 - val_accuracy: 0.8117\n",
            "Epoch 42/100\n",
            "20/20 [==============================] - 0s 5ms/step - loss: 0.4946 - accuracy: 0.7655 - val_loss: 0.4861 - val_accuracy: 0.8117\n",
            "Epoch 43/100\n",
            "20/20 [==============================] - 0s 6ms/step - loss: 0.4981 - accuracy: 0.7590 - val_loss: 0.4818 - val_accuracy: 0.8117\n",
            "Epoch 44/100\n",
            "20/20 [==============================] - 0s 5ms/step - loss: 0.4817 - accuracy: 0.7655 - val_loss: 0.4794 - val_accuracy: 0.8117\n",
            "Epoch 45/100\n",
            "20/20 [==============================] - 0s 6ms/step - loss: 0.4967 - accuracy: 0.7720 - val_loss: 0.4775 - val_accuracy: 0.8117\n",
            "Epoch 46/100\n",
            "20/20 [==============================] - 0s 5ms/step - loss: 0.4791 - accuracy: 0.7687 - val_loss: 0.4778 - val_accuracy: 0.8117\n",
            "Epoch 47/100\n",
            "20/20 [==============================] - 0s 5ms/step - loss: 0.4777 - accuracy: 0.7736 - val_loss: 0.4787 - val_accuracy: 0.7987\n",
            "Epoch 48/100\n",
            "20/20 [==============================] - 0s 6ms/step - loss: 0.4694 - accuracy: 0.7720 - val_loss: 0.4755 - val_accuracy: 0.8052\n",
            "Epoch 49/100\n",
            "20/20 [==============================] - 0s 6ms/step - loss: 0.4792 - accuracy: 0.7655 - val_loss: 0.4778 - val_accuracy: 0.8052\n",
            "Epoch 50/100\n",
            "20/20 [==============================] - 0s 6ms/step - loss: 0.4821 - accuracy: 0.7704 - val_loss: 0.4751 - val_accuracy: 0.8052\n",
            "Epoch 51/100\n",
            "20/20 [==============================] - 0s 6ms/step - loss: 0.4863 - accuracy: 0.7801 - val_loss: 0.4781 - val_accuracy: 0.8117\n",
            "Epoch 52/100\n",
            "20/20 [==============================] - 0s 5ms/step - loss: 0.4945 - accuracy: 0.7687 - val_loss: 0.4795 - val_accuracy: 0.8052\n",
            "Epoch 53/100\n",
            "20/20 [==============================] - 0s 6ms/step - loss: 0.4782 - accuracy: 0.7557 - val_loss: 0.4802 - val_accuracy: 0.8052\n",
            "Epoch 54/100\n",
            "20/20 [==============================] - 0s 6ms/step - loss: 0.4775 - accuracy: 0.7590 - val_loss: 0.4783 - val_accuracy: 0.8052\n",
            "Epoch 55/100\n",
            "20/20 [==============================] - 0s 5ms/step - loss: 0.4784 - accuracy: 0.7769 - val_loss: 0.4772 - val_accuracy: 0.8117\n",
            "Epoch 56/100\n",
            "20/20 [==============================] - 0s 6ms/step - loss: 0.5026 - accuracy: 0.7606 - val_loss: 0.4810 - val_accuracy: 0.8052\n",
            "Epoch 57/100\n",
            "20/20 [==============================] - 0s 6ms/step - loss: 0.4716 - accuracy: 0.7622 - val_loss: 0.4785 - val_accuracy: 0.7987\n",
            "Epoch 58/100\n",
            "20/20 [==============================] - 0s 6ms/step - loss: 0.4841 - accuracy: 0.7687 - val_loss: 0.4745 - val_accuracy: 0.7987\n",
            "Epoch 59/100\n",
            "20/20 [==============================] - 0s 6ms/step - loss: 0.4941 - accuracy: 0.7704 - val_loss: 0.4721 - val_accuracy: 0.7987\n",
            "Epoch 60/100\n",
            "20/20 [==============================] - 0s 6ms/step - loss: 0.4804 - accuracy: 0.7573 - val_loss: 0.4740 - val_accuracy: 0.8117\n",
            "Epoch 61/100\n",
            "20/20 [==============================] - 0s 5ms/step - loss: 0.4820 - accuracy: 0.7622 - val_loss: 0.4724 - val_accuracy: 0.8052\n",
            "Epoch 62/100\n",
            "20/20 [==============================] - 0s 6ms/step - loss: 0.4831 - accuracy: 0.7671 - val_loss: 0.4727 - val_accuracy: 0.8117\n",
            "Epoch 63/100\n",
            "20/20 [==============================] - 0s 6ms/step - loss: 0.4999 - accuracy: 0.7492 - val_loss: 0.4788 - val_accuracy: 0.7987\n",
            "Epoch 64/100\n",
            "20/20 [==============================] - 0s 5ms/step - loss: 0.4756 - accuracy: 0.7752 - val_loss: 0.4794 - val_accuracy: 0.7987\n",
            "Epoch 65/100\n",
            "20/20 [==============================] - 0s 6ms/step - loss: 0.4889 - accuracy: 0.7524 - val_loss: 0.4726 - val_accuracy: 0.8052\n",
            "Epoch 66/100\n",
            "20/20 [==============================] - 0s 5ms/step - loss: 0.4742 - accuracy: 0.7622 - val_loss: 0.4731 - val_accuracy: 0.8052\n",
            "Epoch 67/100\n",
            "20/20 [==============================] - 0s 6ms/step - loss: 0.4763 - accuracy: 0.7638 - val_loss: 0.4750 - val_accuracy: 0.7987\n",
            "Epoch 68/100\n",
            "20/20 [==============================] - 0s 5ms/step - loss: 0.4837 - accuracy: 0.7622 - val_loss: 0.4774 - val_accuracy: 0.7987\n",
            "Epoch 69/100\n",
            "20/20 [==============================] - 0s 6ms/step - loss: 0.4833 - accuracy: 0.7622 - val_loss: 0.4772 - val_accuracy: 0.8052\n",
            "Epoch 70/100\n",
            "20/20 [==============================] - 0s 6ms/step - loss: 0.4822 - accuracy: 0.7606 - val_loss: 0.4772 - val_accuracy: 0.8117\n",
            "Epoch 71/100\n",
            "20/20 [==============================] - 0s 6ms/step - loss: 0.4659 - accuracy: 0.7785 - val_loss: 0.4799 - val_accuracy: 0.8117\n",
            "Epoch 72/100\n",
            "20/20 [==============================] - 0s 5ms/step - loss: 0.4930 - accuracy: 0.7590 - val_loss: 0.4785 - val_accuracy: 0.8117\n",
            "Epoch 73/100\n",
            "20/20 [==============================] - 0s 6ms/step - loss: 0.4731 - accuracy: 0.7573 - val_loss: 0.4768 - val_accuracy: 0.8117\n",
            "Epoch 74/100\n",
            "20/20 [==============================] - 0s 5ms/step - loss: 0.5040 - accuracy: 0.7606 - val_loss: 0.4772 - val_accuracy: 0.8052\n",
            "Epoch 75/100\n",
            "20/20 [==============================] - 0s 5ms/step - loss: 0.4686 - accuracy: 0.7687 - val_loss: 0.4760 - val_accuracy: 0.8117\n",
            "Epoch 76/100\n",
            "20/20 [==============================] - 0s 6ms/step - loss: 0.4654 - accuracy: 0.7687 - val_loss: 0.4775 - val_accuracy: 0.8052\n",
            "Epoch 77/100\n",
            "20/20 [==============================] - 0s 5ms/step - loss: 0.4966 - accuracy: 0.7720 - val_loss: 0.4750 - val_accuracy: 0.7922\n",
            "Epoch 78/100\n",
            "20/20 [==============================] - 0s 5ms/step - loss: 0.4760 - accuracy: 0.7590 - val_loss: 0.4749 - val_accuracy: 0.8117\n",
            "Epoch 79/100\n",
            "20/20 [==============================] - 0s 6ms/step - loss: 0.4672 - accuracy: 0.7541 - val_loss: 0.4783 - val_accuracy: 0.8052\n",
            "Epoch 80/100\n",
            "20/20 [==============================] - 0s 5ms/step - loss: 0.4888 - accuracy: 0.7655 - val_loss: 0.4787 - val_accuracy: 0.7987\n",
            "Epoch 81/100\n",
            "20/20 [==============================] - 0s 5ms/step - loss: 0.4826 - accuracy: 0.7606 - val_loss: 0.4743 - val_accuracy: 0.7987\n",
            "Epoch 82/100\n",
            "20/20 [==============================] - 0s 5ms/step - loss: 0.4836 - accuracy: 0.7752 - val_loss: 0.4729 - val_accuracy: 0.7922\n",
            "Epoch 83/100\n",
            "20/20 [==============================] - 0s 8ms/step - loss: 0.4849 - accuracy: 0.7638 - val_loss: 0.4750 - val_accuracy: 0.7987\n",
            "Epoch 84/100\n",
            "20/20 [==============================] - 0s 8ms/step - loss: 0.4768 - accuracy: 0.7785 - val_loss: 0.4772 - val_accuracy: 0.7987\n",
            "Epoch 85/100\n",
            "20/20 [==============================] - 0s 8ms/step - loss: 0.4853 - accuracy: 0.7443 - val_loss: 0.4744 - val_accuracy: 0.7987\n",
            "Epoch 86/100\n",
            "20/20 [==============================] - 0s 8ms/step - loss: 0.4871 - accuracy: 0.7638 - val_loss: 0.4749 - val_accuracy: 0.7857\n",
            "Epoch 87/100\n",
            "20/20 [==============================] - 0s 7ms/step - loss: 0.4900 - accuracy: 0.7752 - val_loss: 0.4790 - val_accuracy: 0.7792\n",
            "Epoch 88/100\n",
            "20/20 [==============================] - 0s 12ms/step - loss: 0.4682 - accuracy: 0.7818 - val_loss: 0.4772 - val_accuracy: 0.7792\n",
            "Epoch 89/100\n",
            "20/20 [==============================] - 0s 9ms/step - loss: 0.4899 - accuracy: 0.7541 - val_loss: 0.4756 - val_accuracy: 0.7922\n",
            "Epoch 90/100\n",
            "20/20 [==============================] - 0s 9ms/step - loss: 0.4667 - accuracy: 0.7378 - val_loss: 0.4747 - val_accuracy: 0.7922\n",
            "Epoch 91/100\n",
            "20/20 [==============================] - 0s 9ms/step - loss: 0.4711 - accuracy: 0.7622 - val_loss: 0.4816 - val_accuracy: 0.7857\n",
            "Epoch 92/100\n",
            "20/20 [==============================] - 0s 8ms/step - loss: 0.4778 - accuracy: 0.7638 - val_loss: 0.4832 - val_accuracy: 0.7857\n",
            "Epoch 93/100\n",
            "20/20 [==============================] - 0s 11ms/step - loss: 0.4590 - accuracy: 0.7752 - val_loss: 0.4778 - val_accuracy: 0.7987\n",
            "Epoch 94/100\n",
            "20/20 [==============================] - 0s 9ms/step - loss: 0.4694 - accuracy: 0.7671 - val_loss: 0.4737 - val_accuracy: 0.8052\n",
            "Epoch 95/100\n",
            "20/20 [==============================] - 0s 10ms/step - loss: 0.4794 - accuracy: 0.7638 - val_loss: 0.4726 - val_accuracy: 0.7987\n",
            "Epoch 96/100\n",
            "20/20 [==============================] - 0s 9ms/step - loss: 0.4741 - accuracy: 0.7476 - val_loss: 0.4727 - val_accuracy: 0.7987\n",
            "Epoch 97/100\n",
            "20/20 [==============================] - 0s 10ms/step - loss: 0.4715 - accuracy: 0.7541 - val_loss: 0.4728 - val_accuracy: 0.8052\n",
            "Epoch 98/100\n",
            "20/20 [==============================] - 0s 9ms/step - loss: 0.4604 - accuracy: 0.7736 - val_loss: 0.4732 - val_accuracy: 0.8052\n",
            "Epoch 99/100\n",
            "20/20 [==============================] - 0s 8ms/step - loss: 0.4662 - accuracy: 0.7671 - val_loss: 0.4740 - val_accuracy: 0.7987\n",
            "Epoch 100/100\n",
            "20/20 [==============================] - 0s 6ms/step - loss: 0.4761 - accuracy: 0.7427 - val_loss: 0.4770 - val_accuracy: 0.7987\n"
          ]
        },
        {
          "output_type": "execute_result",
          "data": {
            "text/plain": [
              "<keras.src.callbacks.History at 0x7f44607129e0>"
            ]
          },
          "metadata": {},
          "execution_count": 131
        }
      ]
    },
    {
      "cell_type": "code",
      "source": [],
      "metadata": {
        "id": "Y1tSst6qjc9T"
      },
      "execution_count": null,
      "outputs": []
    }
  ]
}